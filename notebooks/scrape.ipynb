{
 "cells": [
  {
   "cell_type": "markdown",
   "metadata": {},
   "source": [
    "# Stude Terkel Radio Archive Scraper\n",
    "\n",
    "Downloads program information from [WFMT's archive](https://studsterkel.wfmt.com/explore#t=date) of radio programs hosted by Studs Terkel."
   ]
  },
  {
   "cell_type": "markdown",
   "metadata": {},
   "source": [
    "### Import Python tools"
   ]
  },
  {
   "cell_type": "code",
   "execution_count": null,
   "metadata": {},
   "outputs": [],
   "source": [
    "import os\n",
    "import time\n",
    "import boto3\n",
    "import requests\n",
    "import pathlib\n",
    "import pandas as pd\n",
    "import urllib.parse\n",
    "import urllib.request\n",
    "from rich.progress import track\n",
    "from datetime import date\n",
    "from bs4 import BeautifulSoup\n",
    "from boto3.s3.transfer import S3Transfer"
   ]
  },
  {
   "cell_type": "markdown",
   "metadata": {},
   "source": [
    "### Download program list"
   ]
  },
  {
   "cell_type": "markdown",
   "metadata": {},
   "source": [
    "Fetch the URL"
   ]
  },
  {
   "cell_type": "code",
   "execution_count": null,
   "metadata": {},
   "outputs": [],
   "source": [
    "r = requests.get(\"https://studsterkel.wfmt.com/explore#t=date\")"
   ]
  },
  {
   "cell_type": "markdown",
   "metadata": {},
   "source": [
    "Parse it"
   ]
  },
  {
   "cell_type": "code",
   "execution_count": null,
   "metadata": {},
   "outputs": [],
   "source": [
    "html = r.text"
   ]
  },
  {
   "cell_type": "code",
   "execution_count": null,
   "metadata": {},
   "outputs": [],
   "source": [
    "soup = BeautifulSoup(html)"
   ]
  },
  {
   "cell_type": "markdown",
   "metadata": {},
   "source": [
    "Pull all the segemented blocks on the page"
   ]
  },
  {
   "cell_type": "code",
   "execution_count": null,
   "metadata": {},
   "outputs": [],
   "source": [
    "year_list = soup.find_all(class_=\"prog_year_block\")"
   ]
  },
  {
   "cell_type": "markdown",
   "metadata": {},
   "source": [
    "Loop through them and grab all the URLs, which lead to program pages."
   ]
  },
  {
   "cell_type": "code",
   "execution_count": null,
   "metadata": {},
   "outputs": [],
   "source": [
    "link_list = []"
   ]
  },
  {
   "cell_type": "code",
   "execution_count": null,
   "metadata": {},
   "outputs": [],
   "source": [
    "for year in year_list:\n",
    "    a_list = year.find_all(\"a\")\n",
    "    link_list.extend([a['href'] for a in a_list])"
   ]
  },
  {
   "cell_type": "markdown",
   "metadata": {},
   "source": [
    "Make sure that list is unique"
   ]
  },
  {
   "cell_type": "code",
   "execution_count": null,
   "metadata": {},
   "outputs": [],
   "source": [
    "unique_links = set(link_list)"
   ]
  },
  {
   "cell_type": "markdown",
   "metadata": {},
   "source": [
    "Print the total number of URLs"
   ]
  },
  {
   "cell_type": "code",
   "execution_count": null,
   "metadata": {},
   "outputs": [],
   "source": [
    "len(unique_links)"
   ]
  },
  {
   "cell_type": "markdown",
   "metadata": {},
   "source": [
    "### Scrape program pages"
   ]
  },
  {
   "cell_type": "markdown",
   "metadata": {},
   "source": [
    "Prepare functions to parse pages"
   ]
  },
  {
   "cell_type": "code",
   "execution_count": null,
   "metadata": {},
   "outputs": [],
   "source": [
    "def parse_meta(e):\n",
    "    \"\"\"\n",
    "    Parse a grid cell of metadata from the bottom of a program page.\n",
    "    \"\"\"\n",
    "    # Get all the p tags\n",
    "    p_list = e.find_all(\"p\")\n",
    "    d = {}\n",
    "    for p in p_list:\n",
    "        # Split out the bolded text as the label\n",
    "        label = p.strong.text\n",
    "        p.strong.extract()\n",
    "        # Keep the rest as the value\n",
    "        value = p.text.strip()\n",
    "        # Add to the dictionary\n",
    "        d[label] = value\n",
    "    # Return all dictionaries in this block\n",
    "    return d"
   ]
  },
  {
   "cell_type": "code",
   "execution_count": null,
   "metadata": {},
   "outputs": [],
   "source": [
    "def url2name(url):\n",
    "    return pathlib.Path(urllib.parse.urlparse(url).path).stem + \".html\""
   ]
  },
  {
   "cell_type": "code",
   "execution_count": null,
   "metadata": {},
   "outputs": [],
   "source": [
    "def download_html(url):\n",
    "    name = url2name(url)\n",
    "    path = pathlib.Path(\"./html\") / name\n",
    "    if path.exists():\n",
    "        return path\n",
    "    else:\n",
    "        headers = {\n",
    "            'User-Agent': 'Studs Terkel Radio Archive Scraper (github.com/palewire/studs-terkel-radio-feed/)',\n",
    "        }\n",
    "        r = requests.get(f\"https://studsterkel.wfmt.com{url}\", headers=headers)\n",
    "        if not r.status_code == 200:\n",
    "            print(f\"Failed with status code {r.status_code}\")\n",
    "            return None\n",
    "        with open(path, \"w\") as fh:\n",
    "            fh.write(r.text)\n",
    "        time.sleep(0.15)\n",
    "        return path"
   ]
  },
  {
   "cell_type": "markdown",
   "metadata": {},
   "source": [
    "Loop through all URLs and scrape each individual page."
   ]
  },
  {
   "cell_type": "code",
   "execution_count": null,
   "metadata": {},
   "outputs": [],
   "source": [
    "for url in track(list(unique_links)):\n",
    "    d = download_html(url)"
   ]
  },
  {
   "cell_type": "code",
   "execution_count": null,
   "metadata": {},
   "outputs": [],
   "source": [
    "def scrape_program(path):\n",
    "    \"\"\"\n",
    "    Scrape a program page and return data.\n",
    "    \"\"\"\n",
    "    # Open the page\n",
    "    with open(path, \"r\") as fh:\n",
    "        html = fh.read()\n",
    "    \n",
    "    # Parse the HTML\n",
    "    soup = BeautifulSoup(html)\n",
    "    \n",
    "    # Pull out the title\n",
    "    title = soup.find(\"h1\").text\n",
    "    \n",
    "    # Parse out all metadata\n",
    "    meta = {}\n",
    "    for e in soup.find(class_=\"meta_data__section\").find_all(class_=\"col-4\"):\n",
    "        meta.update(parse_meta(e))\n",
    "    \n",
    "    # Grab the MP3 URL, if it exists\n",
    "    media = soup.find(class_=\"audio_trigger\")\n",
    "    if media:\n",
    "        mp3_url = media['data-track-url']\n",
    "    else:\n",
    "        mp3_url = None\n",
    "    \n",
    "    # Grab the synopsis, if it exists\n",
    "    summary = soup.find(class_=\"program_synopsis__body\")\n",
    "    if summary:\n",
    "        synopsis = summary.h2.text\n",
    "    else:\n",
    "        synopsis = None\n",
    "    \n",
    "    # Return the scraped data\n",
    "    return dict(\n",
    "        title=title,\n",
    "        mp3_url=mp3_url,\n",
    "        archive_url=\"/programs/\" + path.stem,\n",
    "        synopsis=synopsis,\n",
    "        **meta\n",
    "    )"
   ]
  },
  {
   "cell_type": "code",
   "execution_count": null,
   "metadata": {},
   "outputs": [],
   "source": [
    "html_list = list(pathlib.Path(\"./html\").glob(\"*.html\"))"
   ]
  },
  {
   "cell_type": "code",
   "execution_count": null,
   "metadata": {},
   "outputs": [],
   "source": [
    "program_list = []\n",
    "for p in track(html_list):\n",
    "    d = scrape_program(p)\n",
    "    program_list.append(d)"
   ]
  },
  {
   "cell_type": "markdown",
   "metadata": {},
   "source": [
    "Convert to a dataframe"
   ]
  },
  {
   "cell_type": "code",
   "execution_count": null,
   "metadata": {},
   "outputs": [],
   "source": [
    "df = pd.DataFrame(program_list).rename(columns={\n",
    "    \"Broadcast Date\": \"broadcast_date\",\n",
    "    \"Physical Format\": \"physical_format\",\n",
    "    \"Digital Format\": \"digital_format\",\n",
    "    \"Ownership\": \"ownership\",\n",
    "    \"Language\": \"language\",\n",
    "    \"Program Sponsor\": \"program_sponsor\",\n",
    "    \"Duration\": \"duration\"\n",
    "})"
   ]
  },
  {
   "cell_type": "markdown",
   "metadata": {},
   "source": [
    "Calculate extra columns"
   ]
  },
  {
   "cell_type": "code",
   "execution_count": null,
   "metadata": {},
   "outputs": [],
   "source": [
    "def parse_date(s):\n",
    "    if pd.isnull(s):\n",
    "        return None\n",
    "    try:\n",
    "        month, day, year = s.split(\" \")\n",
    "    except ValueError:\n",
    "        return None\n",
    "    return pd.to_datetime(s)"
   ]
  },
  {
   "cell_type": "code",
   "execution_count": null,
   "metadata": {},
   "outputs": [],
   "source": [
    "df.archive_url = df.archive_url.str.strip()"
   ]
  },
  {
   "cell_type": "code",
   "execution_count": null,
   "metadata": {},
   "outputs": [],
   "source": [
    "df['broadcast_datetime'] = df.broadcast_date.apply(parse_date)"
   ]
  },
  {
   "cell_type": "code",
   "execution_count": null,
   "metadata": {},
   "outputs": [],
   "source": [
    "df['broadcast_year'] = df.broadcast_datetime.dt.year"
   ]
  },
  {
   "cell_type": "code",
   "execution_count": null,
   "metadata": {},
   "outputs": [],
   "source": [
    "df['broadcast_month'] = df.broadcast_datetime.dt.month"
   ]
  },
  {
   "cell_type": "code",
   "execution_count": null,
   "metadata": {},
   "outputs": [],
   "source": [
    "df['broadcast_monthday'] = df.broadcast_datetime.dt.day"
   ]
  },
  {
   "cell_type": "code",
   "execution_count": null,
   "metadata": {},
   "outputs": [],
   "source": [
    "df['has_mp3_url'] = ~pd.isnull(df.mp3_url)"
   ]
  },
  {
   "cell_type": "markdown",
   "metadata": {},
   "source": [
    "Calculate statistics"
   ]
  },
  {
   "cell_type": "code",
   "execution_count": null,
   "metadata": {},
   "outputs": [],
   "source": [
    "df.has_mp3_url.value_counts()"
   ]
  },
  {
   "cell_type": "markdown",
   "metadata": {},
   "source": [
    "### Export"
   ]
  },
  {
   "cell_type": "code",
   "execution_count": null,
   "metadata": {},
   "outputs": [],
   "source": [
    "df.sort_values([\"broadcast_month\", \"broadcast_monthday\", \"broadcast_year\"]).to_csv(\"../data/programs.csv\", index=False)"
   ]
  },
  {
   "cell_type": "markdown",
   "metadata": {},
   "source": [
    "### Download mp3 files"
   ]
  },
  {
   "cell_type": "code",
   "execution_count": 17,
   "metadata": {},
   "outputs": [],
   "source": [
    "sked = pd.read_csv(\"../data/schedule.csv\")"
   ]
  },
  {
   "cell_type": "code",
   "execution_count": 18,
   "metadata": {},
   "outputs": [],
   "source": [
    "has_url = sked[~pd.isnull(sked.archive_url)]"
   ]
  },
  {
   "cell_type": "code",
   "execution_count": 19,
   "metadata": {},
   "outputs": [],
   "source": [
    "assert not has_url.archive_url.duplicated().any()"
   ]
  },
  {
   "cell_type": "code",
   "execution_count": 20,
   "metadata": {},
   "outputs": [],
   "source": [
    "programs = pd.read_csv(\"../data/programs.csv\")"
   ]
  },
  {
   "cell_type": "code",
   "execution_count": 21,
   "metadata": {},
   "outputs": [],
   "source": [
    "feed_df = has_url.merge(\n",
    "    programs,\n",
    "    on=\"archive_url\",\n",
    "    how=\"inner\"\n",
    ")"
   ]
  },
  {
   "cell_type": "code",
   "execution_count": 22,
   "metadata": {},
   "outputs": [],
   "source": [
    "this_dir = os.path.abspath(\"\")"
   ]
  },
  {
   "cell_type": "code",
   "execution_count": 23,
   "metadata": {},
   "outputs": [],
   "source": [
    "parent_dir = os.path.dirname(this_dir)"
   ]
  },
  {
   "cell_type": "code",
   "execution_count": 24,
   "metadata": {},
   "outputs": [],
   "source": [
    "def download_mp3(mp3_url):\n",
    "    \"\"\"\n",
    "    Download the mp3 URL and return the local file path.\n",
    "    \"\"\"\n",
    "    # If there's no URL, there's no path\n",
    "    if not mp3_url or pd.isnull(mp3_url):\n",
    "        return None\n",
    "    \n",
    "    # Build the local path using the URL\n",
    "    filename = mp3_url.split(\"/\")[-1].replace(\"published%2F\", \"\")\n",
    "    filepath = pathlib.Path(\"./mp3\") / filename\n",
    "    \n",
    "    # If the file is already downloaded, we're good to go\n",
    "    if filepath.exists():\n",
    "        pass\n",
    "    # If not, download it\n",
    "    else:\n",
    "        print(f\"Downloading {mp3_url} to {filepath}\")\n",
    "        opener = urllib.request.build_opener()\n",
    "        opener.addheaders = [(\"Referer\", \"https://studsterkel.wfmt.com/\")]\n",
    "        urllib.request.install_opener(opener)\n",
    "        urllib.request.urlretrieve(mp3_url, filepath)\n",
    "        time.sleep(0.125)\n",
    "\n",
    "    # Return the path\n",
    "    return filepath"
   ]
  },
  {
   "cell_type": "code",
   "execution_count": 26,
   "metadata": {},
   "outputs": [],
   "source": [
    "feed_df['mp3_path'] = feed_df.mp3_url.apply(download_mp3)"
   ]
  },
  {
   "cell_type": "code",
   "execution_count": 29,
   "metadata": {},
   "outputs": [
    {
     "data": {
      "text/plain": [
       "0      mp3/40605.mp3\n",
       "1      mp3/56417.mp3\n",
       "2       mp3/6537.mp3\n",
       "3      mp3/10904.mp3\n",
       "4       mp3/2158.mp3\n",
       "           ...      \n",
       "209    mp3/13551.mp3\n",
       "210    mp3/13552.mp3\n",
       "211    mp3/34390.mp3\n",
       "212     mp3/2724.mp3\n",
       "213    mp3/18621.mp3\n",
       "Name: mp3_path, Length: 214, dtype: object"
      ]
     },
     "execution_count": 29,
     "metadata": {},
     "output_type": "execute_result"
    }
   ],
   "source": [
    "feed_df.mp3_path"
   ]
  },
  {
   "cell_type": "markdown",
   "metadata": {},
   "source": [
    "### Upload mp3 files"
   ]
  },
  {
   "cell_type": "code",
   "execution_count": 40,
   "metadata": {},
   "outputs": [],
   "source": [
    "def get_s3_client(bucket, region=\"us-east-1\"):\n",
    "    \"\"\"\n",
    "    Returns a transfer client ready to upload files to an s3 bucket.\n",
    "    Provide the S3 bucket name and region.\n",
    "    \"\"\"\n",
    "    credentials = { \n",
    "        'aws_access_key_id': os.getenv('AWS_ACCESS_KEY_ID'),\n",
    "        'aws_secret_access_key': os.getenv('AWS_ACCESS_KEY_SECRET')\n",
    "    }\n",
    "    client = boto3.client('s3', region, **credentials)\n",
    "    return S3Transfer(client)"
   ]
  },
  {
   "cell_type": "code",
   "execution_count": 41,
   "metadata": {},
   "outputs": [],
   "source": [
    "bucket = 'studs-terkel-radio-archive-feed'\n",
    "client = get_s3_client(bucket)"
   ]
  },
  {
   "cell_type": "code",
   "execution_count": 42,
   "metadata": {},
   "outputs": [
    {
     "data": {
      "application/vnd.jupyter.widget-view+json": {
       "model_id": "a488608c1ae947ab8a3132ae935f4445",
       "version_major": 2,
       "version_minor": 0
      },
      "text/plain": [
       "Output()"
      ]
     },
     "metadata": {},
     "output_type": "display_data"
    },
    {
     "data": {
      "text/html": [
       "<pre style=\"white-space:pre;overflow-x:auto;line-height:normal;font-family:Menlo,'DejaVu Sans Mono',consolas,'Courier New',monospace\">Uploading mp3/40605.mp3 to studs-terkel-radio-archive-feed\n",
       "</pre>\n"
      ],
      "text/plain": [
       "Uploading mp3/40605.mp3 to studs-terkel-radio-archive-feed\n"
      ]
     },
     "metadata": {},
     "output_type": "display_data"
    },
    {
     "data": {
      "text/html": [
       "<pre style=\"white-space:pre;overflow-x:auto;line-height:normal;font-family:Menlo,'DejaVu Sans Mono',consolas,'Courier New',monospace\">Uploading mp3/56417.mp3 to studs-terkel-radio-archive-feed\n",
       "</pre>\n"
      ],
      "text/plain": [
       "Uploading mp3/56417.mp3 to studs-terkel-radio-archive-feed\n"
      ]
     },
     "metadata": {},
     "output_type": "display_data"
    },
    {
     "data": {
      "text/html": [
       "<pre style=\"white-space:pre;overflow-x:auto;line-height:normal;font-family:Menlo,'DejaVu Sans Mono',consolas,'Courier New',monospace\">Uploading mp3/6537.mp3 to studs-terkel-radio-archive-feed\n",
       "</pre>\n"
      ],
      "text/plain": [
       "Uploading mp3/6537.mp3 to studs-terkel-radio-archive-feed\n"
      ]
     },
     "metadata": {},
     "output_type": "display_data"
    },
    {
     "data": {
      "text/html": [
       "<pre style=\"white-space:pre;overflow-x:auto;line-height:normal;font-family:Menlo,'DejaVu Sans Mono',consolas,'Courier New',monospace\">Uploading mp3/10904.mp3 to studs-terkel-radio-archive-feed\n",
       "</pre>\n"
      ],
      "text/plain": [
       "Uploading mp3/10904.mp3 to studs-terkel-radio-archive-feed\n"
      ]
     },
     "metadata": {},
     "output_type": "display_data"
    },
    {
     "data": {
      "text/html": [
       "<pre style=\"white-space:pre;overflow-x:auto;line-height:normal;font-family:Menlo,'DejaVu Sans Mono',consolas,'Courier New',monospace\">Uploading mp3/2158.mp3 to studs-terkel-radio-archive-feed\n",
       "</pre>\n"
      ],
      "text/plain": [
       "Uploading mp3/2158.mp3 to studs-terkel-radio-archive-feed\n"
      ]
     },
     "metadata": {},
     "output_type": "display_data"
    },
    {
     "data": {
      "text/html": [
       "<pre style=\"white-space:pre;overflow-x:auto;line-height:normal;font-family:Menlo,'DejaVu Sans Mono',consolas,'Courier New',monospace\">Uploading mp3/5942.mp3 to studs-terkel-radio-archive-feed\n",
       "</pre>\n"
      ],
      "text/plain": [
       "Uploading mp3/5942.mp3 to studs-terkel-radio-archive-feed\n"
      ]
     },
     "metadata": {},
     "output_type": "display_data"
    },
    {
     "data": {
      "text/html": [
       "<pre style=\"white-space:pre;overflow-x:auto;line-height:normal;font-family:Menlo,'DejaVu Sans Mono',consolas,'Courier New',monospace\">Uploading mp3/33494.mp3 to studs-terkel-radio-archive-feed\n",
       "</pre>\n"
      ],
      "text/plain": [
       "Uploading mp3/33494.mp3 to studs-terkel-radio-archive-feed\n"
      ]
     },
     "metadata": {},
     "output_type": "display_data"
    },
    {
     "data": {
      "text/html": [
       "<pre style=\"white-space:pre;overflow-x:auto;line-height:normal;font-family:Menlo,'DejaVu Sans Mono',consolas,'Courier New',monospace\">Uploading mp3/32660.mp3 to studs-terkel-radio-archive-feed\n",
       "</pre>\n"
      ],
      "text/plain": [
       "Uploading mp3/32660.mp3 to studs-terkel-radio-archive-feed\n"
      ]
     },
     "metadata": {},
     "output_type": "display_data"
    },
    {
     "data": {
      "text/html": [
       "<pre style=\"white-space:pre;overflow-x:auto;line-height:normal;font-family:Menlo,'DejaVu Sans Mono',consolas,'Courier New',monospace\">Uploading mp3/11142.mp3 to studs-terkel-radio-archive-feed\n",
       "</pre>\n"
      ],
      "text/plain": [
       "Uploading mp3/11142.mp3 to studs-terkel-radio-archive-feed\n"
      ]
     },
     "metadata": {},
     "output_type": "display_data"
    },
    {
     "data": {
      "text/html": [
       "<pre style=\"white-space:pre;overflow-x:auto;line-height:normal;font-family:Menlo,'DejaVu Sans Mono',consolas,'Courier New',monospace\">Uploading mp3/10766.mp3 to studs-terkel-radio-archive-feed\n",
       "</pre>\n"
      ],
      "text/plain": [
       "Uploading mp3/10766.mp3 to studs-terkel-radio-archive-feed\n"
      ]
     },
     "metadata": {},
     "output_type": "display_data"
    },
    {
     "data": {
      "text/html": [
       "<pre style=\"white-space:pre;overflow-x:auto;line-height:normal;font-family:Menlo,'DejaVu Sans Mono',consolas,'Courier New',monospace\">Uploading mp3/10125.mp3 to studs-terkel-radio-archive-feed\n",
       "</pre>\n"
      ],
      "text/plain": [
       "Uploading mp3/10125.mp3 to studs-terkel-radio-archive-feed\n"
      ]
     },
     "metadata": {},
     "output_type": "display_data"
    },
    {
     "data": {
      "text/html": [
       "<pre style=\"white-space:pre;overflow-x:auto;line-height:normal;font-family:Menlo,'DejaVu Sans Mono',consolas,'Courier New',monospace\">Uploading mp3/55706.mp3 to studs-terkel-radio-archive-feed\n",
       "</pre>\n"
      ],
      "text/plain": [
       "Uploading mp3/55706.mp3 to studs-terkel-radio-archive-feed\n"
      ]
     },
     "metadata": {},
     "output_type": "display_data"
    },
    {
     "data": {
      "text/html": [
       "<pre style=\"white-space:pre;overflow-x:auto;line-height:normal;font-family:Menlo,'DejaVu Sans Mono',consolas,'Courier New',monospace\">Uploading mp3/37043.mp3 to studs-terkel-radio-archive-feed\n",
       "</pre>\n"
      ],
      "text/plain": [
       "Uploading mp3/37043.mp3 to studs-terkel-radio-archive-feed\n"
      ]
     },
     "metadata": {},
     "output_type": "display_data"
    },
    {
     "data": {
      "text/html": [
       "<pre style=\"white-space:pre;overflow-x:auto;line-height:normal;font-family:Menlo,'DejaVu Sans Mono',consolas,'Courier New',monospace\">Uploading mp3/19604.mp3 to studs-terkel-radio-archive-feed\n",
       "</pre>\n"
      ],
      "text/plain": [
       "Uploading mp3/19604.mp3 to studs-terkel-radio-archive-feed\n"
      ]
     },
     "metadata": {},
     "output_type": "display_data"
    },
    {
     "data": {
      "text/html": [
       "<pre style=\"white-space:pre;overflow-x:auto;line-height:normal;font-family:Menlo,'DejaVu Sans Mono',consolas,'Courier New',monospace\">Uploading mp3/6905.mp3 to studs-terkel-radio-archive-feed\n",
       "</pre>\n"
      ],
      "text/plain": [
       "Uploading mp3/6905.mp3 to studs-terkel-radio-archive-feed\n"
      ]
     },
     "metadata": {},
     "output_type": "display_data"
    },
    {
     "data": {
      "text/html": [
       "<pre style=\"white-space:pre;overflow-x:auto;line-height:normal;font-family:Menlo,'DejaVu Sans Mono',consolas,'Courier New',monospace\">Uploading mp3/10734.mp3 to studs-terkel-radio-archive-feed\n",
       "</pre>\n"
      ],
      "text/plain": [
       "Uploading mp3/10734.mp3 to studs-terkel-radio-archive-feed\n"
      ]
     },
     "metadata": {},
     "output_type": "display_data"
    },
    {
     "data": {
      "text/html": [
       "<pre style=\"white-space:pre;overflow-x:auto;line-height:normal;font-family:Menlo,'DejaVu Sans Mono',consolas,'Courier New',monospace\">Uploading mp3/9802.mp3 to studs-terkel-radio-archive-feed\n",
       "</pre>\n"
      ],
      "text/plain": [
       "Uploading mp3/9802.mp3 to studs-terkel-radio-archive-feed\n"
      ]
     },
     "metadata": {},
     "output_type": "display_data"
    },
    {
     "data": {
      "text/html": [
       "<pre style=\"white-space:pre;overflow-x:auto;line-height:normal;font-family:Menlo,'DejaVu Sans Mono',consolas,'Courier New',monospace\">Uploading mp3/9901.mp3 to studs-terkel-radio-archive-feed\n",
       "</pre>\n"
      ],
      "text/plain": [
       "Uploading mp3/9901.mp3 to studs-terkel-radio-archive-feed\n"
      ]
     },
     "metadata": {},
     "output_type": "display_data"
    },
    {
     "data": {
      "text/html": [
       "<pre style=\"white-space:pre;overflow-x:auto;line-height:normal;font-family:Menlo,'DejaVu Sans Mono',consolas,'Courier New',monospace\">Uploading mp3/56105.mp3 to studs-terkel-radio-archive-feed\n",
       "</pre>\n"
      ],
      "text/plain": [
       "Uploading mp3/56105.mp3 to studs-terkel-radio-archive-feed\n"
      ]
     },
     "metadata": {},
     "output_type": "display_data"
    },
    {
     "data": {
      "text/html": [
       "<pre style=\"white-space:pre;overflow-x:auto;line-height:normal;font-family:Menlo,'DejaVu Sans Mono',consolas,'Courier New',monospace\">Uploading mp3/11909.mp3 to studs-terkel-radio-archive-feed\n",
       "</pre>\n"
      ],
      "text/plain": [
       "Uploading mp3/11909.mp3 to studs-terkel-radio-archive-feed\n"
      ]
     },
     "metadata": {},
     "output_type": "display_data"
    },
    {
     "data": {
      "text/html": [
       "<pre style=\"white-space:pre;overflow-x:auto;line-height:normal;font-family:Menlo,'DejaVu Sans Mono',consolas,'Courier New',monospace\">Uploading mp3/56443.mp3 to studs-terkel-radio-archive-feed\n",
       "</pre>\n"
      ],
      "text/plain": [
       "Uploading mp3/56443.mp3 to studs-terkel-radio-archive-feed\n"
      ]
     },
     "metadata": {},
     "output_type": "display_data"
    },
    {
     "data": {
      "text/html": [
       "<pre style=\"white-space:pre;overflow-x:auto;line-height:normal;font-family:Menlo,'DejaVu Sans Mono',consolas,'Courier New',monospace\">Uploading mp3/56049.mp3 to studs-terkel-radio-archive-feed\n",
       "</pre>\n"
      ],
      "text/plain": [
       "Uploading mp3/56049.mp3 to studs-terkel-radio-archive-feed\n"
      ]
     },
     "metadata": {},
     "output_type": "display_data"
    },
    {
     "data": {
      "text/html": [
       "<pre style=\"white-space:pre;overflow-x:auto;line-height:normal;font-family:Menlo,'DejaVu Sans Mono',consolas,'Courier New',monospace\">Uploading mp3/9013.mp3 to studs-terkel-radio-archive-feed\n",
       "</pre>\n"
      ],
      "text/plain": [
       "Uploading mp3/9013.mp3 to studs-terkel-radio-archive-feed\n"
      ]
     },
     "metadata": {},
     "output_type": "display_data"
    },
    {
     "data": {
      "text/html": [
       "<pre style=\"white-space:pre;overflow-x:auto;line-height:normal;font-family:Menlo,'DejaVu Sans Mono',consolas,'Courier New',monospace\">Uploading mp3/56709.mp3 to studs-terkel-radio-archive-feed\n",
       "</pre>\n"
      ],
      "text/plain": [
       "Uploading mp3/56709.mp3 to studs-terkel-radio-archive-feed\n"
      ]
     },
     "metadata": {},
     "output_type": "display_data"
    },
    {
     "data": {
      "text/html": [
       "<pre style=\"white-space:pre;overflow-x:auto;line-height:normal;font-family:Menlo,'DejaVu Sans Mono',consolas,'Courier New',monospace\">Uploading mp3/38033.mp3 to studs-terkel-radio-archive-feed\n",
       "</pre>\n"
      ],
      "text/plain": [
       "Uploading mp3/38033.mp3 to studs-terkel-radio-archive-feed\n"
      ]
     },
     "metadata": {},
     "output_type": "display_data"
    },
    {
     "data": {
      "text/html": [
       "<pre style=\"white-space:pre;overflow-x:auto;line-height:normal;font-family:Menlo,'DejaVu Sans Mono',consolas,'Courier New',monospace\">Uploading mp3/56817.mp3 to studs-terkel-radio-archive-feed\n",
       "</pre>\n"
      ],
      "text/plain": [
       "Uploading mp3/56817.mp3 to studs-terkel-radio-archive-feed\n"
      ]
     },
     "metadata": {},
     "output_type": "display_data"
    },
    {
     "data": {
      "text/html": [
       "<pre style=\"white-space:pre;overflow-x:auto;line-height:normal;font-family:Menlo,'DejaVu Sans Mono',consolas,'Courier New',monospace\">Uploading mp3/9924.mp3 to studs-terkel-radio-archive-feed\n",
       "</pre>\n"
      ],
      "text/plain": [
       "Uploading mp3/9924.mp3 to studs-terkel-radio-archive-feed\n"
      ]
     },
     "metadata": {},
     "output_type": "display_data"
    },
    {
     "data": {
      "text/html": [
       "<pre style=\"white-space:pre;overflow-x:auto;line-height:normal;font-family:Menlo,'DejaVu Sans Mono',consolas,'Courier New',monospace\">Uploading mp3/10916.mp3 to studs-terkel-radio-archive-feed\n",
       "</pre>\n"
      ],
      "text/plain": [
       "Uploading mp3/10916.mp3 to studs-terkel-radio-archive-feed\n"
      ]
     },
     "metadata": {},
     "output_type": "display_data"
    },
    {
     "data": {
      "text/html": [
       "<pre style=\"white-space:pre;overflow-x:auto;line-height:normal;font-family:Menlo,'DejaVu Sans Mono',consolas,'Courier New',monospace\">Uploading mp3/56297.mp3 to studs-terkel-radio-archive-feed\n",
       "</pre>\n"
      ],
      "text/plain": [
       "Uploading mp3/56297.mp3 to studs-terkel-radio-archive-feed\n"
      ]
     },
     "metadata": {},
     "output_type": "display_data"
    },
    {
     "data": {
      "text/html": [
       "<pre style=\"white-space:pre;overflow-x:auto;line-height:normal;font-family:Menlo,'DejaVu Sans Mono',consolas,'Courier New',monospace\">Uploading mp3/56450.mp3 to studs-terkel-radio-archive-feed\n",
       "</pre>\n"
      ],
      "text/plain": [
       "Uploading mp3/56450.mp3 to studs-terkel-radio-archive-feed\n"
      ]
     },
     "metadata": {},
     "output_type": "display_data"
    },
    {
     "data": {
      "text/html": [
       "<pre style=\"white-space:pre;overflow-x:auto;line-height:normal;font-family:Menlo,'DejaVu Sans Mono',consolas,'Courier New',monospace\">Uploading mp3/34339.mp3 to studs-terkel-radio-archive-feed\n",
       "</pre>\n"
      ],
      "text/plain": [
       "Uploading mp3/34339.mp3 to studs-terkel-radio-archive-feed\n"
      ]
     },
     "metadata": {},
     "output_type": "display_data"
    },
    {
     "data": {
      "text/html": [
       "<pre style=\"white-space:pre;overflow-x:auto;line-height:normal;font-family:Menlo,'DejaVu Sans Mono',consolas,'Courier New',monospace\">Uploading mp3/12838.mp3 to studs-terkel-radio-archive-feed\n",
       "</pre>\n"
      ],
      "text/plain": [
       "Uploading mp3/12838.mp3 to studs-terkel-radio-archive-feed\n"
      ]
     },
     "metadata": {},
     "output_type": "display_data"
    },
    {
     "data": {
      "text/html": [
       "<pre style=\"white-space:pre;overflow-x:auto;line-height:normal;font-family:Menlo,'DejaVu Sans Mono',consolas,'Courier New',monospace\">Uploading mp3/29625.mp3 to studs-terkel-radio-archive-feed\n",
       "</pre>\n"
      ],
      "text/plain": [
       "Uploading mp3/29625.mp3 to studs-terkel-radio-archive-feed\n"
      ]
     },
     "metadata": {},
     "output_type": "display_data"
    },
    {
     "data": {
      "text/html": [
       "<pre style=\"white-space:pre;overflow-x:auto;line-height:normal;font-family:Menlo,'DejaVu Sans Mono',consolas,'Courier New',monospace\">Uploading mp3/38426.mp3 to studs-terkel-radio-archive-feed\n",
       "</pre>\n"
      ],
      "text/plain": [
       "Uploading mp3/38426.mp3 to studs-terkel-radio-archive-feed\n"
      ]
     },
     "metadata": {},
     "output_type": "display_data"
    },
    {
     "data": {
      "text/html": [
       "<pre style=\"white-space:pre;overflow-x:auto;line-height:normal;font-family:Menlo,'DejaVu Sans Mono',consolas,'Courier New',monospace\">Uploading mp3/56918.mp3 to studs-terkel-radio-archive-feed\n",
       "</pre>\n"
      ],
      "text/plain": [
       "Uploading mp3/56918.mp3 to studs-terkel-radio-archive-feed\n"
      ]
     },
     "metadata": {},
     "output_type": "display_data"
    },
    {
     "data": {
      "text/html": [
       "<pre style=\"white-space:pre;overflow-x:auto;line-height:normal;font-family:Menlo,'DejaVu Sans Mono',consolas,'Courier New',monospace\">Uploading mp3/56284.mp3 to studs-terkel-radio-archive-feed\n",
       "</pre>\n"
      ],
      "text/plain": [
       "Uploading mp3/56284.mp3 to studs-terkel-radio-archive-feed\n"
      ]
     },
     "metadata": {},
     "output_type": "display_data"
    },
    {
     "data": {
      "text/html": [
       "<pre style=\"white-space:pre;overflow-x:auto;line-height:normal;font-family:Menlo,'DejaVu Sans Mono',consolas,'Courier New',monospace\">Uploading mp3/10207.mp3 to studs-terkel-radio-archive-feed\n",
       "</pre>\n"
      ],
      "text/plain": [
       "Uploading mp3/10207.mp3 to studs-terkel-radio-archive-feed\n"
      ]
     },
     "metadata": {},
     "output_type": "display_data"
    },
    {
     "data": {
      "text/html": [
       "<pre style=\"white-space:pre;overflow-x:auto;line-height:normal;font-family:Menlo,'DejaVu Sans Mono',consolas,'Courier New',monospace\">Uploading mp3/59727.mp3 to studs-terkel-radio-archive-feed\n",
       "</pre>\n"
      ],
      "text/plain": [
       "Uploading mp3/59727.mp3 to studs-terkel-radio-archive-feed\n"
      ]
     },
     "metadata": {},
     "output_type": "display_data"
    },
    {
     "data": {
      "text/html": [
       "<pre style=\"white-space:pre;overflow-x:auto;line-height:normal;font-family:Menlo,'DejaVu Sans Mono',consolas,'Courier New',monospace\">Uploading mp3/39911.mp3 to studs-terkel-radio-archive-feed\n",
       "</pre>\n"
      ],
      "text/plain": [
       "Uploading mp3/39911.mp3 to studs-terkel-radio-archive-feed\n"
      ]
     },
     "metadata": {},
     "output_type": "display_data"
    },
    {
     "data": {
      "text/html": [
       "<pre style=\"white-space:pre;overflow-x:auto;line-height:normal;font-family:Menlo,'DejaVu Sans Mono',consolas,'Courier New',monospace\">Uploading mp3/40501.mp3 to studs-terkel-radio-archive-feed\n",
       "</pre>\n"
      ],
      "text/plain": [
       "Uploading mp3/40501.mp3 to studs-terkel-radio-archive-feed\n"
      ]
     },
     "metadata": {},
     "output_type": "display_data"
    },
    {
     "data": {
      "text/html": [
       "<pre style=\"white-space:pre;overflow-x:auto;line-height:normal;font-family:Menlo,'DejaVu Sans Mono',consolas,'Courier New',monospace\">Uploading mp3/41571.mp3 to studs-terkel-radio-archive-feed\n",
       "</pre>\n"
      ],
      "text/plain": [
       "Uploading mp3/41571.mp3 to studs-terkel-radio-archive-feed\n"
      ]
     },
     "metadata": {},
     "output_type": "display_data"
    },
    {
     "data": {
      "text/html": [
       "<pre style=\"white-space:pre;overflow-x:auto;line-height:normal;font-family:Menlo,'DejaVu Sans Mono',consolas,'Courier New',monospace\">Uploading mp3/41795.mp3 to studs-terkel-radio-archive-feed\n",
       "</pre>\n"
      ],
      "text/plain": [
       "Uploading mp3/41795.mp3 to studs-terkel-radio-archive-feed\n"
      ]
     },
     "metadata": {},
     "output_type": "display_data"
    },
    {
     "data": {
      "text/html": [
       "<pre style=\"white-space:pre;overflow-x:auto;line-height:normal;font-family:Menlo,'DejaVu Sans Mono',consolas,'Courier New',monospace\">Uploading mp3/41799.mp3 to studs-terkel-radio-archive-feed\n",
       "</pre>\n"
      ],
      "text/plain": [
       "Uploading mp3/41799.mp3 to studs-terkel-radio-archive-feed\n"
      ]
     },
     "metadata": {},
     "output_type": "display_data"
    },
    {
     "data": {
      "text/html": [
       "<pre style=\"white-space:pre;overflow-x:auto;line-height:normal;font-family:Menlo,'DejaVu Sans Mono',consolas,'Courier New',monospace\">Uploading mp3/21231.mp3 to studs-terkel-radio-archive-feed\n",
       "</pre>\n"
      ],
      "text/plain": [
       "Uploading mp3/21231.mp3 to studs-terkel-radio-archive-feed\n"
      ]
     },
     "metadata": {},
     "output_type": "display_data"
    },
    {
     "data": {
      "text/html": [
       "<pre style=\"white-space:pre;overflow-x:auto;line-height:normal;font-family:Menlo,'DejaVu Sans Mono',consolas,'Courier New',monospace\">Uploading mp3/13494.mp3 to studs-terkel-radio-archive-feed\n",
       "</pre>\n"
      ],
      "text/plain": [
       "Uploading mp3/13494.mp3 to studs-terkel-radio-archive-feed\n"
      ]
     },
     "metadata": {},
     "output_type": "display_data"
    },
    {
     "data": {
      "text/html": [
       "<pre style=\"white-space:pre;overflow-x:auto;line-height:normal;font-family:Menlo,'DejaVu Sans Mono',consolas,'Courier New',monospace\">Uploading mp3/13497.mp3 to studs-terkel-radio-archive-feed\n",
       "</pre>\n"
      ],
      "text/plain": [
       "Uploading mp3/13497.mp3 to studs-terkel-radio-archive-feed\n"
      ]
     },
     "metadata": {},
     "output_type": "display_data"
    },
    {
     "data": {
      "text/html": [
       "<pre style=\"white-space:pre;overflow-x:auto;line-height:normal;font-family:Menlo,'DejaVu Sans Mono',consolas,'Courier New',monospace\">Uploading mp3/23230.mp3 to studs-terkel-radio-archive-feed\n",
       "</pre>\n"
      ],
      "text/plain": [
       "Uploading mp3/23230.mp3 to studs-terkel-radio-archive-feed\n"
      ]
     },
     "metadata": {},
     "output_type": "display_data"
    },
    {
     "data": {
      "text/html": [
       "<pre style=\"white-space:pre;overflow-x:auto;line-height:normal;font-family:Menlo,'DejaVu Sans Mono',consolas,'Courier New',monospace\">Uploading mp3/10765.mp3 to studs-terkel-radio-archive-feed\n",
       "</pre>\n"
      ],
      "text/plain": [
       "Uploading mp3/10765.mp3 to studs-terkel-radio-archive-feed\n"
      ]
     },
     "metadata": {},
     "output_type": "display_data"
    },
    {
     "data": {
      "text/html": [
       "<pre style=\"white-space:pre;overflow-x:auto;line-height:normal;font-family:Menlo,'DejaVu Sans Mono',consolas,'Courier New',monospace\">Uploading mp3/56466.mp3 to studs-terkel-radio-archive-feed\n",
       "</pre>\n"
      ],
      "text/plain": [
       "Uploading mp3/56466.mp3 to studs-terkel-radio-archive-feed\n"
      ]
     },
     "metadata": {},
     "output_type": "display_data"
    },
    {
     "data": {
      "text/html": [
       "<pre style=\"white-space:pre;overflow-x:auto;line-height:normal;font-family:Menlo,'DejaVu Sans Mono',consolas,'Courier New',monospace\">Uploading mp3/22949.mp3 to studs-terkel-radio-archive-feed\n",
       "</pre>\n"
      ],
      "text/plain": [
       "Uploading mp3/22949.mp3 to studs-terkel-radio-archive-feed\n"
      ]
     },
     "metadata": {},
     "output_type": "display_data"
    },
    {
     "data": {
      "text/html": [
       "<pre style=\"white-space:pre;overflow-x:auto;line-height:normal;font-family:Menlo,'DejaVu Sans Mono',consolas,'Courier New',monospace\">Uploading mp3/44123.mp3 to studs-terkel-radio-archive-feed\n",
       "</pre>\n"
      ],
      "text/plain": [
       "Uploading mp3/44123.mp3 to studs-terkel-radio-archive-feed\n"
      ]
     },
     "metadata": {},
     "output_type": "display_data"
    },
    {
     "data": {
      "text/html": [
       "<pre style=\"white-space:pre;overflow-x:auto;line-height:normal;font-family:Menlo,'DejaVu Sans Mono',consolas,'Courier New',monospace\">Uploading mp3/32027.mp3 to studs-terkel-radio-archive-feed\n",
       "</pre>\n"
      ],
      "text/plain": [
       "Uploading mp3/32027.mp3 to studs-terkel-radio-archive-feed\n"
      ]
     },
     "metadata": {},
     "output_type": "display_data"
    },
    {
     "data": {
      "text/html": [
       "<pre style=\"white-space:pre;overflow-x:auto;line-height:normal;font-family:Menlo,'DejaVu Sans Mono',consolas,'Courier New',monospace\">Uploading mp3/38319.mp3 to studs-terkel-radio-archive-feed\n",
       "</pre>\n"
      ],
      "text/plain": [
       "Uploading mp3/38319.mp3 to studs-terkel-radio-archive-feed\n"
      ]
     },
     "metadata": {},
     "output_type": "display_data"
    },
    {
     "data": {
      "text/html": [
       "<pre style=\"white-space:pre;overflow-x:auto;line-height:normal;font-family:Menlo,'DejaVu Sans Mono',consolas,'Courier New',monospace\">Uploading mp3/33154.mp3 to studs-terkel-radio-archive-feed\n",
       "</pre>\n"
      ],
      "text/plain": [
       "Uploading mp3/33154.mp3 to studs-terkel-radio-archive-feed\n"
      ]
     },
     "metadata": {},
     "output_type": "display_data"
    },
    {
     "data": {
      "text/html": [
       "<pre style=\"white-space:pre;overflow-x:auto;line-height:normal;font-family:Menlo,'DejaVu Sans Mono',consolas,'Courier New',monospace\">Uploading mp3/34366.mp3 to studs-terkel-radio-archive-feed\n",
       "</pre>\n"
      ],
      "text/plain": [
       "Uploading mp3/34366.mp3 to studs-terkel-radio-archive-feed\n"
      ]
     },
     "metadata": {},
     "output_type": "display_data"
    },
    {
     "data": {
      "text/html": [
       "<pre style=\"white-space:pre;overflow-x:auto;line-height:normal;font-family:Menlo,'DejaVu Sans Mono',consolas,'Courier New',monospace\">Uploading mp3/6378.mp3 to studs-terkel-radio-archive-feed\n",
       "</pre>\n"
      ],
      "text/plain": [
       "Uploading mp3/6378.mp3 to studs-terkel-radio-archive-feed\n"
      ]
     },
     "metadata": {},
     "output_type": "display_data"
    },
    {
     "data": {
      "text/html": [
       "<pre style=\"white-space:pre;overflow-x:auto;line-height:normal;font-family:Menlo,'DejaVu Sans Mono',consolas,'Courier New',monospace\">Uploading mp3/38828.mp3 to studs-terkel-radio-archive-feed\n",
       "</pre>\n"
      ],
      "text/plain": [
       "Uploading mp3/38828.mp3 to studs-terkel-radio-archive-feed\n"
      ]
     },
     "metadata": {},
     "output_type": "display_data"
    },
    {
     "data": {
      "text/html": [
       "<pre style=\"white-space:pre;overflow-x:auto;line-height:normal;font-family:Menlo,'DejaVu Sans Mono',consolas,'Courier New',monospace\">Uploading mp3/23371.mp3 to studs-terkel-radio-archive-feed\n",
       "</pre>\n"
      ],
      "text/plain": [
       "Uploading mp3/23371.mp3 to studs-terkel-radio-archive-feed\n"
      ]
     },
     "metadata": {},
     "output_type": "display_data"
    },
    {
     "data": {
      "text/html": [
       "<pre style=\"white-space:pre;overflow-x:auto;line-height:normal;font-family:Menlo,'DejaVu Sans Mono',consolas,'Courier New',monospace\">Uploading mp3/56311.mp3 to studs-terkel-radio-archive-feed\n",
       "</pre>\n"
      ],
      "text/plain": [
       "Uploading mp3/56311.mp3 to studs-terkel-radio-archive-feed\n"
      ]
     },
     "metadata": {},
     "output_type": "display_data"
    },
    {
     "data": {
      "text/html": [
       "<pre style=\"white-space:pre;overflow-x:auto;line-height:normal;font-family:Menlo,'DejaVu Sans Mono',consolas,'Courier New',monospace\">Uploading mp3/56306.mp3 to studs-terkel-radio-archive-feed\n",
       "</pre>\n"
      ],
      "text/plain": [
       "Uploading mp3/56306.mp3 to studs-terkel-radio-archive-feed\n"
      ]
     },
     "metadata": {},
     "output_type": "display_data"
    },
    {
     "data": {
      "text/html": [
       "<pre style=\"white-space:pre;overflow-x:auto;line-height:normal;font-family:Menlo,'DejaVu Sans Mono',consolas,'Courier New',monospace\">Uploading mp3/7795.mp3 to studs-terkel-radio-archive-feed\n",
       "</pre>\n"
      ],
      "text/plain": [
       "Uploading mp3/7795.mp3 to studs-terkel-radio-archive-feed\n"
      ]
     },
     "metadata": {},
     "output_type": "display_data"
    },
    {
     "data": {
      "text/html": [
       "<pre style=\"white-space:pre;overflow-x:auto;line-height:normal;font-family:Menlo,'DejaVu Sans Mono',consolas,'Courier New',monospace\">Uploading mp3/10957.mp3 to studs-terkel-radio-archive-feed\n",
       "</pre>\n"
      ],
      "text/plain": [
       "Uploading mp3/10957.mp3 to studs-terkel-radio-archive-feed\n"
      ]
     },
     "metadata": {},
     "output_type": "display_data"
    },
    {
     "data": {
      "text/html": [
       "<pre style=\"white-space:pre;overflow-x:auto;line-height:normal;font-family:Menlo,'DejaVu Sans Mono',consolas,'Courier New',monospace\">Uploading mp3/19880.mp3 to studs-terkel-radio-archive-feed\n",
       "</pre>\n"
      ],
      "text/plain": [
       "Uploading mp3/19880.mp3 to studs-terkel-radio-archive-feed\n"
      ]
     },
     "metadata": {},
     "output_type": "display_data"
    },
    {
     "data": {
      "text/html": [
       "<pre style=\"white-space:pre;overflow-x:auto;line-height:normal;font-family:Menlo,'DejaVu Sans Mono',consolas,'Courier New',monospace\">Uploading mp3/55898.mp3 to studs-terkel-radio-archive-feed\n",
       "</pre>\n"
      ],
      "text/plain": [
       "Uploading mp3/55898.mp3 to studs-terkel-radio-archive-feed\n"
      ]
     },
     "metadata": {},
     "output_type": "display_data"
    },
    {
     "data": {
      "text/html": [
       "<pre style=\"white-space:pre;overflow-x:auto;line-height:normal;font-family:Menlo,'DejaVu Sans Mono',consolas,'Courier New',monospace\">Uploading mp3/19572.mp3 to studs-terkel-radio-archive-feed\n",
       "</pre>\n"
      ],
      "text/plain": [
       "Uploading mp3/19572.mp3 to studs-terkel-radio-archive-feed\n"
      ]
     },
     "metadata": {},
     "output_type": "display_data"
    },
    {
     "data": {
      "text/html": [
       "<pre style=\"white-space:pre;overflow-x:auto;line-height:normal;font-family:Menlo,'DejaVu Sans Mono',consolas,'Courier New',monospace\">Uploading mp3/35256.mp3 to studs-terkel-radio-archive-feed\n",
       "</pre>\n"
      ],
      "text/plain": [
       "Uploading mp3/35256.mp3 to studs-terkel-radio-archive-feed\n"
      ]
     },
     "metadata": {},
     "output_type": "display_data"
    },
    {
     "data": {
      "text/html": [
       "<pre style=\"white-space:pre;overflow-x:auto;line-height:normal;font-family:Menlo,'DejaVu Sans Mono',consolas,'Courier New',monospace\">Uploading mp3/7099.mp3 to studs-terkel-radio-archive-feed\n",
       "</pre>\n"
      ],
      "text/plain": [
       "Uploading mp3/7099.mp3 to studs-terkel-radio-archive-feed\n"
      ]
     },
     "metadata": {},
     "output_type": "display_data"
    },
    {
     "data": {
      "text/html": [
       "<pre style=\"white-space:pre;overflow-x:auto;line-height:normal;font-family:Menlo,'DejaVu Sans Mono',consolas,'Courier New',monospace\">Uploading mp3/13110.mp3 to studs-terkel-radio-archive-feed\n",
       "</pre>\n"
      ],
      "text/plain": [
       "Uploading mp3/13110.mp3 to studs-terkel-radio-archive-feed\n"
      ]
     },
     "metadata": {},
     "output_type": "display_data"
    },
    {
     "data": {
      "text/html": [
       "<pre style=\"white-space:pre;overflow-x:auto;line-height:normal;font-family:Menlo,'DejaVu Sans Mono',consolas,'Courier New',monospace\">Uploading mp3/13109.mp3 to studs-terkel-radio-archive-feed\n",
       "</pre>\n"
      ],
      "text/plain": [
       "Uploading mp3/13109.mp3 to studs-terkel-radio-archive-feed\n"
      ]
     },
     "metadata": {},
     "output_type": "display_data"
    },
    {
     "data": {
      "text/html": [
       "<pre style=\"white-space:pre;overflow-x:auto;line-height:normal;font-family:Menlo,'DejaVu Sans Mono',consolas,'Courier New',monospace\">Uploading mp3/9932.mp3 to studs-terkel-radio-archive-feed\n",
       "</pre>\n"
      ],
      "text/plain": [
       "Uploading mp3/9932.mp3 to studs-terkel-radio-archive-feed\n"
      ]
     },
     "metadata": {},
     "output_type": "display_data"
    },
    {
     "data": {
      "text/html": [
       "<pre style=\"white-space:pre;overflow-x:auto;line-height:normal;font-family:Menlo,'DejaVu Sans Mono',consolas,'Courier New',monospace\">Uploading mp3/45702.mp3 to studs-terkel-radio-archive-feed\n",
       "</pre>\n"
      ],
      "text/plain": [
       "Uploading mp3/45702.mp3 to studs-terkel-radio-archive-feed\n"
      ]
     },
     "metadata": {},
     "output_type": "display_data"
    },
    {
     "data": {
      "text/html": [
       "<pre style=\"white-space:pre;overflow-x:auto;line-height:normal;font-family:Menlo,'DejaVu Sans Mono',consolas,'Courier New',monospace\">Uploading mp3/44735.mp3 to studs-terkel-radio-archive-feed\n",
       "</pre>\n"
      ],
      "text/plain": [
       "Uploading mp3/44735.mp3 to studs-terkel-radio-archive-feed\n"
      ]
     },
     "metadata": {},
     "output_type": "display_data"
    },
    {
     "data": {
      "text/html": [
       "<pre style=\"white-space:pre;overflow-x:auto;line-height:normal;font-family:Menlo,'DejaVu Sans Mono',consolas,'Courier New',monospace\">Uploading mp3/56319.mp3 to studs-terkel-radio-archive-feed\n",
       "</pre>\n"
      ],
      "text/plain": [
       "Uploading mp3/56319.mp3 to studs-terkel-radio-archive-feed\n"
      ]
     },
     "metadata": {},
     "output_type": "display_data"
    },
    {
     "data": {
      "text/html": [
       "<pre style=\"white-space:pre;overflow-x:auto;line-height:normal;font-family:Menlo,'DejaVu Sans Mono',consolas,'Courier New',monospace\">Uploading mp3/12368.mp3 to studs-terkel-radio-archive-feed\n",
       "</pre>\n"
      ],
      "text/plain": [
       "Uploading mp3/12368.mp3 to studs-terkel-radio-archive-feed\n"
      ]
     },
     "metadata": {},
     "output_type": "display_data"
    },
    {
     "data": {
      "text/html": [
       "<pre style=\"white-space:pre;overflow-x:auto;line-height:normal;font-family:Menlo,'DejaVu Sans Mono',consolas,'Courier New',monospace\">Uploading mp3/56131.mp3 to studs-terkel-radio-archive-feed\n",
       "</pre>\n"
      ],
      "text/plain": [
       "Uploading mp3/56131.mp3 to studs-terkel-radio-archive-feed\n"
      ]
     },
     "metadata": {},
     "output_type": "display_data"
    },
    {
     "data": {
      "text/html": [
       "<pre style=\"white-space:pre;overflow-x:auto;line-height:normal;font-family:Menlo,'DejaVu Sans Mono',consolas,'Courier New',monospace\">Uploading mp3/11861.mp3 to studs-terkel-radio-archive-feed\n",
       "</pre>\n"
      ],
      "text/plain": [
       "Uploading mp3/11861.mp3 to studs-terkel-radio-archive-feed\n"
      ]
     },
     "metadata": {},
     "output_type": "display_data"
    },
    {
     "data": {
      "text/html": [
       "<pre style=\"white-space:pre;overflow-x:auto;line-height:normal;font-family:Menlo,'DejaVu Sans Mono',consolas,'Courier New',monospace\">Uploading mp3/12249.mp3 to studs-terkel-radio-archive-feed\n",
       "</pre>\n"
      ],
      "text/plain": [
       "Uploading mp3/12249.mp3 to studs-terkel-radio-archive-feed\n"
      ]
     },
     "metadata": {},
     "output_type": "display_data"
    },
    {
     "data": {
      "text/html": [
       "<pre style=\"white-space:pre;overflow-x:auto;line-height:normal;font-family:Menlo,'DejaVu Sans Mono',consolas,'Courier New',monospace\">Uploading mp3/30646.mp3 to studs-terkel-radio-archive-feed\n",
       "</pre>\n"
      ],
      "text/plain": [
       "Uploading mp3/30646.mp3 to studs-terkel-radio-archive-feed\n"
      ]
     },
     "metadata": {},
     "output_type": "display_data"
    },
    {
     "data": {
      "text/html": [
       "<pre style=\"white-space:pre;overflow-x:auto;line-height:normal;font-family:Menlo,'DejaVu Sans Mono',consolas,'Courier New',monospace\">Uploading mp3/7088.mp3 to studs-terkel-radio-archive-feed\n",
       "</pre>\n"
      ],
      "text/plain": [
       "Uploading mp3/7088.mp3 to studs-terkel-radio-archive-feed\n"
      ]
     },
     "metadata": {},
     "output_type": "display_data"
    },
    {
     "data": {
      "text/html": [
       "<pre style=\"white-space:pre;overflow-x:auto;line-height:normal;font-family:Menlo,'DejaVu Sans Mono',consolas,'Courier New',monospace\">Uploading mp3/33308.mp3 to studs-terkel-radio-archive-feed\n",
       "</pre>\n"
      ],
      "text/plain": [
       "Uploading mp3/33308.mp3 to studs-terkel-radio-archive-feed\n"
      ]
     },
     "metadata": {},
     "output_type": "display_data"
    },
    {
     "data": {
      "text/html": [
       "<pre style=\"white-space:pre;overflow-x:auto;line-height:normal;font-family:Menlo,'DejaVu Sans Mono',consolas,'Courier New',monospace\">Uploading mp3/7142.mp3 to studs-terkel-radio-archive-feed\n",
       "</pre>\n"
      ],
      "text/plain": [
       "Uploading mp3/7142.mp3 to studs-terkel-radio-archive-feed\n"
      ]
     },
     "metadata": {},
     "output_type": "display_data"
    },
    {
     "data": {
      "text/html": [
       "<pre style=\"white-space:pre;overflow-x:auto;line-height:normal;font-family:Menlo,'DejaVu Sans Mono',consolas,'Courier New',monospace\">Uploading mp3/20008.mp3 to studs-terkel-radio-archive-feed\n",
       "</pre>\n"
      ],
      "text/plain": [
       "Uploading mp3/20008.mp3 to studs-terkel-radio-archive-feed\n"
      ]
     },
     "metadata": {},
     "output_type": "display_data"
    },
    {
     "data": {
      "text/html": [
       "<pre style=\"white-space:pre;overflow-x:auto;line-height:normal;font-family:Menlo,'DejaVu Sans Mono',consolas,'Courier New',monospace\">Uploading mp3/19758.mp3 to studs-terkel-radio-archive-feed\n",
       "</pre>\n"
      ],
      "text/plain": [
       "Uploading mp3/19758.mp3 to studs-terkel-radio-archive-feed\n"
      ]
     },
     "metadata": {},
     "output_type": "display_data"
    },
    {
     "data": {
      "text/html": [
       "<pre style=\"white-space:pre;overflow-x:auto;line-height:normal;font-family:Menlo,'DejaVu Sans Mono',consolas,'Courier New',monospace\">Uploading mp3/60723.mp3 to studs-terkel-radio-archive-feed\n",
       "</pre>\n"
      ],
      "text/plain": [
       "Uploading mp3/60723.mp3 to studs-terkel-radio-archive-feed\n"
      ]
     },
     "metadata": {},
     "output_type": "display_data"
    },
    {
     "data": {
      "text/html": [
       "<pre style=\"white-space:pre;overflow-x:auto;line-height:normal;font-family:Menlo,'DejaVu Sans Mono',consolas,'Courier New',monospace\">Uploading mp3/9517.mp3 to studs-terkel-radio-archive-feed\n",
       "</pre>\n"
      ],
      "text/plain": [
       "Uploading mp3/9517.mp3 to studs-terkel-radio-archive-feed\n"
      ]
     },
     "metadata": {},
     "output_type": "display_data"
    },
    {
     "data": {
      "text/html": [
       "<pre style=\"white-space:pre;overflow-x:auto;line-height:normal;font-family:Menlo,'DejaVu Sans Mono',consolas,'Courier New',monospace\">Uploading mp3/6116.mp3 to studs-terkel-radio-archive-feed\n",
       "</pre>\n"
      ],
      "text/plain": [
       "Uploading mp3/6116.mp3 to studs-terkel-radio-archive-feed\n"
      ]
     },
     "metadata": {},
     "output_type": "display_data"
    },
    {
     "data": {
      "text/html": [
       "<pre style=\"white-space:pre;overflow-x:auto;line-height:normal;font-family:Menlo,'DejaVu Sans Mono',consolas,'Courier New',monospace\">Uploading mp3/55973.mp3 to studs-terkel-radio-archive-feed\n",
       "</pre>\n"
      ],
      "text/plain": [
       "Uploading mp3/55973.mp3 to studs-terkel-radio-archive-feed\n"
      ]
     },
     "metadata": {},
     "output_type": "display_data"
    },
    {
     "data": {
      "text/html": [
       "<pre style=\"white-space:pre;overflow-x:auto;line-height:normal;font-family:Menlo,'DejaVu Sans Mono',consolas,'Courier New',monospace\">Uploading mp3/44270.mp3 to studs-terkel-radio-archive-feed\n",
       "</pre>\n"
      ],
      "text/plain": [
       "Uploading mp3/44270.mp3 to studs-terkel-radio-archive-feed\n"
      ]
     },
     "metadata": {},
     "output_type": "display_data"
    },
    {
     "data": {
      "text/html": [
       "<pre style=\"white-space:pre;overflow-x:auto;line-height:normal;font-family:Menlo,'DejaVu Sans Mono',consolas,'Courier New',monospace\">Uploading mp3/56236.mp3 to studs-terkel-radio-archive-feed\n",
       "</pre>\n"
      ],
      "text/plain": [
       "Uploading mp3/56236.mp3 to studs-terkel-radio-archive-feed\n"
      ]
     },
     "metadata": {},
     "output_type": "display_data"
    },
    {
     "data": {
      "text/html": [
       "<pre style=\"white-space:pre;overflow-x:auto;line-height:normal;font-family:Menlo,'DejaVu Sans Mono',consolas,'Courier New',monospace\">Uploading mp3/7940.mp3 to studs-terkel-radio-archive-feed\n",
       "</pre>\n"
      ],
      "text/plain": [
       "Uploading mp3/7940.mp3 to studs-terkel-radio-archive-feed\n"
      ]
     },
     "metadata": {},
     "output_type": "display_data"
    },
    {
     "data": {
      "text/html": [
       "<pre style=\"white-space:pre;overflow-x:auto;line-height:normal;font-family:Menlo,'DejaVu Sans Mono',consolas,'Courier New',monospace\">Uploading mp3/44385.mp3 to studs-terkel-radio-archive-feed\n",
       "</pre>\n"
      ],
      "text/plain": [
       "Uploading mp3/44385.mp3 to studs-terkel-radio-archive-feed\n"
      ]
     },
     "metadata": {},
     "output_type": "display_data"
    },
    {
     "data": {
      "text/html": [
       "<pre style=\"white-space:pre;overflow-x:auto;line-height:normal;font-family:Menlo,'DejaVu Sans Mono',consolas,'Courier New',monospace\">Uploading mp3/35370.mp3 to studs-terkel-radio-archive-feed\n",
       "</pre>\n"
      ],
      "text/plain": [
       "Uploading mp3/35370.mp3 to studs-terkel-radio-archive-feed\n"
      ]
     },
     "metadata": {},
     "output_type": "display_data"
    },
    {
     "data": {
      "text/html": [
       "<pre style=\"white-space:pre;overflow-x:auto;line-height:normal;font-family:Menlo,'DejaVu Sans Mono',consolas,'Courier New',monospace\">Uploading mp3/12938.mp3 to studs-terkel-radio-archive-feed\n",
       "</pre>\n"
      ],
      "text/plain": [
       "Uploading mp3/12938.mp3 to studs-terkel-radio-archive-feed\n"
      ]
     },
     "metadata": {},
     "output_type": "display_data"
    },
    {
     "data": {
      "text/html": [
       "<pre style=\"white-space:pre;overflow-x:auto;line-height:normal;font-family:Menlo,'DejaVu Sans Mono',consolas,'Courier New',monospace\">Uploading mp3/35214.mp3 to studs-terkel-radio-archive-feed\n",
       "</pre>\n"
      ],
      "text/plain": [
       "Uploading mp3/35214.mp3 to studs-terkel-radio-archive-feed\n"
      ]
     },
     "metadata": {},
     "output_type": "display_data"
    },
    {
     "data": {
      "text/html": [
       "<pre style=\"white-space:pre;overflow-x:auto;line-height:normal;font-family:Menlo,'DejaVu Sans Mono',consolas,'Courier New',monospace\">Uploading mp3/13405.mp3 to studs-terkel-radio-archive-feed\n",
       "</pre>\n"
      ],
      "text/plain": [
       "Uploading mp3/13405.mp3 to studs-terkel-radio-archive-feed\n"
      ]
     },
     "metadata": {},
     "output_type": "display_data"
    },
    {
     "data": {
      "text/html": [
       "<pre style=\"white-space:pre;overflow-x:auto;line-height:normal;font-family:Menlo,'DejaVu Sans Mono',consolas,'Courier New',monospace\">Uploading mp3/60792.mp3 to studs-terkel-radio-archive-feed\n",
       "</pre>\n"
      ],
      "text/plain": [
       "Uploading mp3/60792.mp3 to studs-terkel-radio-archive-feed\n"
      ]
     },
     "metadata": {},
     "output_type": "display_data"
    },
    {
     "data": {
      "text/html": [
       "<pre style=\"white-space:pre;overflow-x:auto;line-height:normal;font-family:Menlo,'DejaVu Sans Mono',consolas,'Courier New',monospace\">Uploading mp3/49694.mp3 to studs-terkel-radio-archive-feed\n",
       "</pre>\n"
      ],
      "text/plain": [
       "Uploading mp3/49694.mp3 to studs-terkel-radio-archive-feed\n"
      ]
     },
     "metadata": {},
     "output_type": "display_data"
    },
    {
     "data": {
      "text/html": [
       "<pre style=\"white-space:pre;overflow-x:auto;line-height:normal;font-family:Menlo,'DejaVu Sans Mono',consolas,'Courier New',monospace\">Uploading mp3/49699.mp3 to studs-terkel-radio-archive-feed\n",
       "</pre>\n"
      ],
      "text/plain": [
       "Uploading mp3/49699.mp3 to studs-terkel-radio-archive-feed\n"
      ]
     },
     "metadata": {},
     "output_type": "display_data"
    },
    {
     "data": {
      "text/html": [
       "<pre style=\"white-space:pre;overflow-x:auto;line-height:normal;font-family:Menlo,'DejaVu Sans Mono',consolas,'Courier New',monospace\">Uploading mp3/56269.mp3 to studs-terkel-radio-archive-feed\n",
       "</pre>\n"
      ],
      "text/plain": [
       "Uploading mp3/56269.mp3 to studs-terkel-radio-archive-feed\n"
      ]
     },
     "metadata": {},
     "output_type": "display_data"
    },
    {
     "data": {
      "text/html": [
       "<pre style=\"white-space:pre;overflow-x:auto;line-height:normal;font-family:Menlo,'DejaVu Sans Mono',consolas,'Courier New',monospace\">Uploading mp3/20026.mp3 to studs-terkel-radio-archive-feed\n",
       "</pre>\n"
      ],
      "text/plain": [
       "Uploading mp3/20026.mp3 to studs-terkel-radio-archive-feed\n"
      ]
     },
     "metadata": {},
     "output_type": "display_data"
    },
    {
     "data": {
      "text/html": [
       "<pre style=\"white-space:pre;overflow-x:auto;line-height:normal;font-family:Menlo,'DejaVu Sans Mono',consolas,'Courier New',monospace\">Uploading mp3/19940.mp3 to studs-terkel-radio-archive-feed\n",
       "</pre>\n"
      ],
      "text/plain": [
       "Uploading mp3/19940.mp3 to studs-terkel-radio-archive-feed\n"
      ]
     },
     "metadata": {},
     "output_type": "display_data"
    },
    {
     "data": {
      "text/html": [
       "<pre style=\"white-space:pre;overflow-x:auto;line-height:normal;font-family:Menlo,'DejaVu Sans Mono',consolas,'Courier New',monospace\">Uploading mp3/7718.mp3 to studs-terkel-radio-archive-feed\n",
       "</pre>\n"
      ],
      "text/plain": [
       "Uploading mp3/7718.mp3 to studs-terkel-radio-archive-feed\n"
      ]
     },
     "metadata": {},
     "output_type": "display_data"
    },
    {
     "data": {
      "text/html": [
       "<pre style=\"white-space:pre;overflow-x:auto;line-height:normal;font-family:Menlo,'DejaVu Sans Mono',consolas,'Courier New',monospace\">Uploading mp3/48351.mp3 to studs-terkel-radio-archive-feed\n",
       "</pre>\n"
      ],
      "text/plain": [
       "Uploading mp3/48351.mp3 to studs-terkel-radio-archive-feed\n"
      ]
     },
     "metadata": {},
     "output_type": "display_data"
    },
    {
     "data": {
      "text/html": [
       "<pre style=\"white-space:pre;overflow-x:auto;line-height:normal;font-family:Menlo,'DejaVu Sans Mono',consolas,'Courier New',monospace\">Uploading mp3/19649.mp3 to studs-terkel-radio-archive-feed\n",
       "</pre>\n"
      ],
      "text/plain": [
       "Uploading mp3/19649.mp3 to studs-terkel-radio-archive-feed\n"
      ]
     },
     "metadata": {},
     "output_type": "display_data"
    },
    {
     "data": {
      "text/html": [
       "<pre style=\"white-space:pre;overflow-x:auto;line-height:normal;font-family:Menlo,'DejaVu Sans Mono',consolas,'Courier New',monospace\">Uploading mp3/45339.mp3 to studs-terkel-radio-archive-feed\n",
       "</pre>\n"
      ],
      "text/plain": [
       "Uploading mp3/45339.mp3 to studs-terkel-radio-archive-feed\n"
      ]
     },
     "metadata": {},
     "output_type": "display_data"
    },
    {
     "data": {
      "text/html": [
       "<pre style=\"white-space:pre;overflow-x:auto;line-height:normal;font-family:Menlo,'DejaVu Sans Mono',consolas,'Courier New',monospace\">Uploading mp3/55716.mp3 to studs-terkel-radio-archive-feed\n",
       "</pre>\n"
      ],
      "text/plain": [
       "Uploading mp3/55716.mp3 to studs-terkel-radio-archive-feed\n"
      ]
     },
     "metadata": {},
     "output_type": "display_data"
    },
    {
     "data": {
      "text/html": [
       "<pre style=\"white-space:pre;overflow-x:auto;line-height:normal;font-family:Menlo,'DejaVu Sans Mono',consolas,'Courier New',monospace\">Uploading mp3/34527.mp3 to studs-terkel-radio-archive-feed\n",
       "</pre>\n"
      ],
      "text/plain": [
       "Uploading mp3/34527.mp3 to studs-terkel-radio-archive-feed\n"
      ]
     },
     "metadata": {},
     "output_type": "display_data"
    },
    {
     "data": {
      "text/html": [
       "<pre style=\"white-space:pre;overflow-x:auto;line-height:normal;font-family:Menlo,'DejaVu Sans Mono',consolas,'Courier New',monospace\">Uploading mp3/48471.mp3 to studs-terkel-radio-archive-feed\n",
       "</pre>\n"
      ],
      "text/plain": [
       "Uploading mp3/48471.mp3 to studs-terkel-radio-archive-feed\n"
      ]
     },
     "metadata": {},
     "output_type": "display_data"
    },
    {
     "data": {
      "text/html": [
       "<pre style=\"white-space:pre;overflow-x:auto;line-height:normal;font-family:Menlo,'DejaVu Sans Mono',consolas,'Courier New',monospace\">Uploading mp3/35201.mp3 to studs-terkel-radio-archive-feed\n",
       "</pre>\n"
      ],
      "text/plain": [
       "Uploading mp3/35201.mp3 to studs-terkel-radio-archive-feed\n"
      ]
     },
     "metadata": {},
     "output_type": "display_data"
    },
    {
     "data": {
      "text/html": [
       "<pre style=\"white-space:pre;overflow-x:auto;line-height:normal;font-family:Menlo,'DejaVu Sans Mono',consolas,'Courier New',monospace\">Uploading mp3/33484.mp3 to studs-terkel-radio-archive-feed\n",
       "</pre>\n"
      ],
      "text/plain": [
       "Uploading mp3/33484.mp3 to studs-terkel-radio-archive-feed\n"
      ]
     },
     "metadata": {},
     "output_type": "display_data"
    },
    {
     "data": {
      "text/html": [
       "<pre style=\"white-space:pre;overflow-x:auto;line-height:normal;font-family:Menlo,'DejaVu Sans Mono',consolas,'Courier New',monospace\">Uploading mp3/20030.mp3 to studs-terkel-radio-archive-feed\n",
       "</pre>\n"
      ],
      "text/plain": [
       "Uploading mp3/20030.mp3 to studs-terkel-radio-archive-feed\n"
      ]
     },
     "metadata": {},
     "output_type": "display_data"
    },
    {
     "data": {
      "text/html": [
       "<pre style=\"white-space:pre;overflow-x:auto;line-height:normal;font-family:Menlo,'DejaVu Sans Mono',consolas,'Courier New',monospace\">Uploading mp3/56047.mp3 to studs-terkel-radio-archive-feed\n",
       "</pre>\n"
      ],
      "text/plain": [
       "Uploading mp3/56047.mp3 to studs-terkel-radio-archive-feed\n"
      ]
     },
     "metadata": {},
     "output_type": "display_data"
    },
    {
     "data": {
      "text/html": [
       "<pre style=\"white-space:pre;overflow-x:auto;line-height:normal;font-family:Menlo,'DejaVu Sans Mono',consolas,'Courier New',monospace\">Uploading mp3/5999.mp3 to studs-terkel-radio-archive-feed\n",
       "</pre>\n"
      ],
      "text/plain": [
       "Uploading mp3/5999.mp3 to studs-terkel-radio-archive-feed\n"
      ]
     },
     "metadata": {},
     "output_type": "display_data"
    },
    {
     "data": {
      "text/html": [
       "<pre style=\"white-space:pre;overflow-x:auto;line-height:normal;font-family:Menlo,'DejaVu Sans Mono',consolas,'Courier New',monospace\">Uploading mp3/12253.mp3 to studs-terkel-radio-archive-feed\n",
       "</pre>\n"
      ],
      "text/plain": [
       "Uploading mp3/12253.mp3 to studs-terkel-radio-archive-feed\n"
      ]
     },
     "metadata": {},
     "output_type": "display_data"
    },
    {
     "data": {
      "text/html": [
       "<pre style=\"white-space:pre;overflow-x:auto;line-height:normal;font-family:Menlo,'DejaVu Sans Mono',consolas,'Courier New',monospace\">Uploading mp3/56280.mp3 to studs-terkel-radio-archive-feed\n",
       "</pre>\n"
      ],
      "text/plain": [
       "Uploading mp3/56280.mp3 to studs-terkel-radio-archive-feed\n"
      ]
     },
     "metadata": {},
     "output_type": "display_data"
    },
    {
     "data": {
      "text/html": [
       "<pre style=\"white-space:pre;overflow-x:auto;line-height:normal;font-family:Menlo,'DejaVu Sans Mono',consolas,'Courier New',monospace\">Uploading mp3/7666.mp3 to studs-terkel-radio-archive-feed\n",
       "</pre>\n"
      ],
      "text/plain": [
       "Uploading mp3/7666.mp3 to studs-terkel-radio-archive-feed\n"
      ]
     },
     "metadata": {},
     "output_type": "display_data"
    },
    {
     "data": {
      "text/html": [
       "<pre style=\"white-space:pre;overflow-x:auto;line-height:normal;font-family:Menlo,'DejaVu Sans Mono',consolas,'Courier New',monospace\">Uploading mp3/7669.mp3 to studs-terkel-radio-archive-feed\n",
       "</pre>\n"
      ],
      "text/plain": [
       "Uploading mp3/7669.mp3 to studs-terkel-radio-archive-feed\n"
      ]
     },
     "metadata": {},
     "output_type": "display_data"
    },
    {
     "data": {
      "text/html": [
       "<pre style=\"white-space:pre;overflow-x:auto;line-height:normal;font-family:Menlo,'DejaVu Sans Mono',consolas,'Courier New',monospace\">Uploading mp3/56251.mp3 to studs-terkel-radio-archive-feed\n",
       "</pre>\n"
      ],
      "text/plain": [
       "Uploading mp3/56251.mp3 to studs-terkel-radio-archive-feed\n"
      ]
     },
     "metadata": {},
     "output_type": "display_data"
    },
    {
     "data": {
      "text/html": [
       "<pre style=\"white-space:pre;overflow-x:auto;line-height:normal;font-family:Menlo,'DejaVu Sans Mono',consolas,'Courier New',monospace\">Uploading mp3/34409.mp3 to studs-terkel-radio-archive-feed\n",
       "</pre>\n"
      ],
      "text/plain": [
       "Uploading mp3/34409.mp3 to studs-terkel-radio-archive-feed\n"
      ]
     },
     "metadata": {},
     "output_type": "display_data"
    },
    {
     "data": {
      "text/html": [
       "<pre style=\"white-space:pre;overflow-x:auto;line-height:normal;font-family:Menlo,'DejaVu Sans Mono',consolas,'Courier New',monospace\">Uploading mp3/12752.mp3 to studs-terkel-radio-archive-feed\n",
       "</pre>\n"
      ],
      "text/plain": [
       "Uploading mp3/12752.mp3 to studs-terkel-radio-archive-feed\n"
      ]
     },
     "metadata": {},
     "output_type": "display_data"
    },
    {
     "data": {
      "text/html": [
       "<pre style=\"white-space:pre;overflow-x:auto;line-height:normal;font-family:Menlo,'DejaVu Sans Mono',consolas,'Courier New',monospace\">Uploading mp3/6018.mp3 to studs-terkel-radio-archive-feed\n",
       "</pre>\n"
      ],
      "text/plain": [
       "Uploading mp3/6018.mp3 to studs-terkel-radio-archive-feed\n"
      ]
     },
     "metadata": {},
     "output_type": "display_data"
    },
    {
     "data": {
      "text/html": [
       "<pre style=\"white-space:pre;overflow-x:auto;line-height:normal;font-family:Menlo,'DejaVu Sans Mono',consolas,'Courier New',monospace\">Uploading mp3/6206.mp3 to studs-terkel-radio-archive-feed\n",
       "</pre>\n"
      ],
      "text/plain": [
       "Uploading mp3/6206.mp3 to studs-terkel-radio-archive-feed\n"
      ]
     },
     "metadata": {},
     "output_type": "display_data"
    },
    {
     "data": {
      "text/html": [
       "<pre style=\"white-space:pre;overflow-x:auto;line-height:normal;font-family:Menlo,'DejaVu Sans Mono',consolas,'Courier New',monospace\">Uploading mp3/8624.mp3 to studs-terkel-radio-archive-feed\n",
       "</pre>\n"
      ],
      "text/plain": [
       "Uploading mp3/8624.mp3 to studs-terkel-radio-archive-feed\n"
      ]
     },
     "metadata": {},
     "output_type": "display_data"
    },
    {
     "data": {
      "text/html": [
       "<pre style=\"white-space:pre;overflow-x:auto;line-height:normal;font-family:Menlo,'DejaVu Sans Mono',consolas,'Courier New',monospace\">Uploading mp3/48323.mp3 to studs-terkel-radio-archive-feed\n",
       "</pre>\n"
      ],
      "text/plain": [
       "Uploading mp3/48323.mp3 to studs-terkel-radio-archive-feed\n"
      ]
     },
     "metadata": {},
     "output_type": "display_data"
    },
    {
     "data": {
      "text/html": [
       "<pre style=\"white-space:pre;overflow-x:auto;line-height:normal;font-family:Menlo,'DejaVu Sans Mono',consolas,'Courier New',monospace\">Uploading mp3/8502.mp3 to studs-terkel-radio-archive-feed\n",
       "</pre>\n"
      ],
      "text/plain": [
       "Uploading mp3/8502.mp3 to studs-terkel-radio-archive-feed\n"
      ]
     },
     "metadata": {},
     "output_type": "display_data"
    },
    {
     "data": {
      "text/html": [
       "<pre style=\"white-space:pre;overflow-x:auto;line-height:normal;font-family:Menlo,'DejaVu Sans Mono',consolas,'Courier New',monospace\">Uploading mp3/48475.mp3 to studs-terkel-radio-archive-feed\n",
       "</pre>\n"
      ],
      "text/plain": [
       "Uploading mp3/48475.mp3 to studs-terkel-radio-archive-feed\n"
      ]
     },
     "metadata": {},
     "output_type": "display_data"
    },
    {
     "data": {
      "text/html": [
       "<pre style=\"white-space:pre;overflow-x:auto;line-height:normal;font-family:Menlo,'DejaVu Sans Mono',consolas,'Courier New',monospace\">Uploading mp3/44795.mp3 to studs-terkel-radio-archive-feed\n",
       "</pre>\n"
      ],
      "text/plain": [
       "Uploading mp3/44795.mp3 to studs-terkel-radio-archive-feed\n"
      ]
     },
     "metadata": {},
     "output_type": "display_data"
    },
    {
     "data": {
      "text/html": [
       "<pre style=\"white-space:pre;overflow-x:auto;line-height:normal;font-family:Menlo,'DejaVu Sans Mono',consolas,'Courier New',monospace\">Uploading mp3/35054.mp3 to studs-terkel-radio-archive-feed\n",
       "</pre>\n"
      ],
      "text/plain": [
       "Uploading mp3/35054.mp3 to studs-terkel-radio-archive-feed\n"
      ]
     },
     "metadata": {},
     "output_type": "display_data"
    },
    {
     "data": {
      "text/html": [
       "<pre style=\"white-space:pre;overflow-x:auto;line-height:normal;font-family:Menlo,'DejaVu Sans Mono',consolas,'Courier New',monospace\">Uploading mp3/39975.mp3 to studs-terkel-radio-archive-feed\n",
       "</pre>\n"
      ],
      "text/plain": [
       "Uploading mp3/39975.mp3 to studs-terkel-radio-archive-feed\n"
      ]
     },
     "metadata": {},
     "output_type": "display_data"
    },
    {
     "data": {
      "text/html": [
       "<pre style=\"white-space:pre;overflow-x:auto;line-height:normal;font-family:Menlo,'DejaVu Sans Mono',consolas,'Courier New',monospace\">Uploading mp3/49626.mp3 to studs-terkel-radio-archive-feed\n",
       "</pre>\n"
      ],
      "text/plain": [
       "Uploading mp3/49626.mp3 to studs-terkel-radio-archive-feed\n"
      ]
     },
     "metadata": {},
     "output_type": "display_data"
    },
    {
     "data": {
      "text/html": [
       "<pre style=\"white-space:pre;overflow-x:auto;line-height:normal;font-family:Menlo,'DejaVu Sans Mono',consolas,'Courier New',monospace\">Uploading mp3/32821.mp3 to studs-terkel-radio-archive-feed\n",
       "</pre>\n"
      ],
      "text/plain": [
       "Uploading mp3/32821.mp3 to studs-terkel-radio-archive-feed\n"
      ]
     },
     "metadata": {},
     "output_type": "display_data"
    },
    {
     "data": {
      "text/html": [
       "<pre style=\"white-space:pre;overflow-x:auto;line-height:normal;font-family:Menlo,'DejaVu Sans Mono',consolas,'Courier New',monospace\">Uploading mp3/32030.mp3 to studs-terkel-radio-archive-feed\n",
       "</pre>\n"
      ],
      "text/plain": [
       "Uploading mp3/32030.mp3 to studs-terkel-radio-archive-feed\n"
      ]
     },
     "metadata": {},
     "output_type": "display_data"
    },
    {
     "data": {
      "text/html": [
       "<pre style=\"white-space:pre;overflow-x:auto;line-height:normal;font-family:Menlo,'DejaVu Sans Mono',consolas,'Courier New',monospace\">Uploading mp3/37252.mp3 to studs-terkel-radio-archive-feed\n",
       "</pre>\n"
      ],
      "text/plain": [
       "Uploading mp3/37252.mp3 to studs-terkel-radio-archive-feed\n"
      ]
     },
     "metadata": {},
     "output_type": "display_data"
    },
    {
     "data": {
      "text/html": [
       "<pre style=\"white-space:pre;overflow-x:auto;line-height:normal;font-family:Menlo,'DejaVu Sans Mono',consolas,'Courier New',monospace\">Uploading mp3/50112.mp3 to studs-terkel-radio-archive-feed\n",
       "</pre>\n"
      ],
      "text/plain": [
       "Uploading mp3/50112.mp3 to studs-terkel-radio-archive-feed\n"
      ]
     },
     "metadata": {},
     "output_type": "display_data"
    },
    {
     "data": {
      "text/html": [
       "<pre style=\"white-space:pre;overflow-x:auto;line-height:normal;font-family:Menlo,'DejaVu Sans Mono',consolas,'Courier New',monospace\">Uploading mp3/22863.mp3 to studs-terkel-radio-archive-feed\n",
       "</pre>\n"
      ],
      "text/plain": [
       "Uploading mp3/22863.mp3 to studs-terkel-radio-archive-feed\n"
      ]
     },
     "metadata": {},
     "output_type": "display_data"
    },
    {
     "data": {
      "text/html": [
       "<pre style=\"white-space:pre;overflow-x:auto;line-height:normal;font-family:Menlo,'DejaVu Sans Mono',consolas,'Courier New',monospace\">Uploading mp3/37559.mp3 to studs-terkel-radio-archive-feed\n",
       "</pre>\n"
      ],
      "text/plain": [
       "Uploading mp3/37559.mp3 to studs-terkel-radio-archive-feed\n"
      ]
     },
     "metadata": {},
     "output_type": "display_data"
    },
    {
     "data": {
      "text/html": [
       "<pre style=\"white-space:pre;overflow-x:auto;line-height:normal;font-family:Menlo,'DejaVu Sans Mono',consolas,'Courier New',monospace\">Uploading mp3/37399.mp3 to studs-terkel-radio-archive-feed\n",
       "</pre>\n"
      ],
      "text/plain": [
       "Uploading mp3/37399.mp3 to studs-terkel-radio-archive-feed\n"
      ]
     },
     "metadata": {},
     "output_type": "display_data"
    },
    {
     "data": {
      "text/html": [
       "<pre style=\"white-space:pre;overflow-x:auto;line-height:normal;font-family:Menlo,'DejaVu Sans Mono',consolas,'Courier New',monospace\">Uploading mp3/41353.mp3 to studs-terkel-radio-archive-feed\n",
       "</pre>\n"
      ],
      "text/plain": [
       "Uploading mp3/41353.mp3 to studs-terkel-radio-archive-feed\n"
      ]
     },
     "metadata": {},
     "output_type": "display_data"
    },
    {
     "data": {
      "text/html": [
       "<pre style=\"white-space:pre;overflow-x:auto;line-height:normal;font-family:Menlo,'DejaVu Sans Mono',consolas,'Courier New',monospace\">Uploading mp3/12161.mp3 to studs-terkel-radio-archive-feed\n",
       "</pre>\n"
      ],
      "text/plain": [
       "Uploading mp3/12161.mp3 to studs-terkel-radio-archive-feed\n"
      ]
     },
     "metadata": {},
     "output_type": "display_data"
    },
    {
     "data": {
      "text/html": [
       "<pre style=\"white-space:pre;overflow-x:auto;line-height:normal;font-family:Menlo,'DejaVu Sans Mono',consolas,'Courier New',monospace\">Uploading mp3/49558.mp3 to studs-terkel-radio-archive-feed\n",
       "</pre>\n"
      ],
      "text/plain": [
       "Uploading mp3/49558.mp3 to studs-terkel-radio-archive-feed\n"
      ]
     },
     "metadata": {},
     "output_type": "display_data"
    },
    {
     "data": {
      "text/html": [
       "<pre style=\"white-space:pre;overflow-x:auto;line-height:normal;font-family:Menlo,'DejaVu Sans Mono',consolas,'Courier New',monospace\">Uploading mp3/20148.mp3 to studs-terkel-radio-archive-feed\n",
       "</pre>\n"
      ],
      "text/plain": [
       "Uploading mp3/20148.mp3 to studs-terkel-radio-archive-feed\n"
      ]
     },
     "metadata": {},
     "output_type": "display_data"
    },
    {
     "data": {
      "text/html": [
       "<pre style=\"white-space:pre;overflow-x:auto;line-height:normal;font-family:Menlo,'DejaVu Sans Mono',consolas,'Courier New',monospace\">Uploading mp3/43337.mp3 to studs-terkel-radio-archive-feed\n",
       "</pre>\n"
      ],
      "text/plain": [
       "Uploading mp3/43337.mp3 to studs-terkel-radio-archive-feed\n"
      ]
     },
     "metadata": {},
     "output_type": "display_data"
    },
    {
     "data": {
      "text/html": [
       "<pre style=\"white-space:pre;overflow-x:auto;line-height:normal;font-family:Menlo,'DejaVu Sans Mono',consolas,'Courier New',monospace\">Uploading mp3/41143.mp3 to studs-terkel-radio-archive-feed\n",
       "</pre>\n"
      ],
      "text/plain": [
       "Uploading mp3/41143.mp3 to studs-terkel-radio-archive-feed\n"
      ]
     },
     "metadata": {},
     "output_type": "display_data"
    },
    {
     "data": {
      "text/html": [
       "<pre style=\"white-space:pre;overflow-x:auto;line-height:normal;font-family:Menlo,'DejaVu Sans Mono',consolas,'Courier New',monospace\">Uploading mp3/40888.mp3 to studs-terkel-radio-archive-feed\n",
       "</pre>\n"
      ],
      "text/plain": [
       "Uploading mp3/40888.mp3 to studs-terkel-radio-archive-feed\n"
      ]
     },
     "metadata": {},
     "output_type": "display_data"
    },
    {
     "data": {
      "text/html": [
       "<pre style=\"white-space:pre;overflow-x:auto;line-height:normal;font-family:Menlo,'DejaVu Sans Mono',consolas,'Courier New',monospace\">Uploading mp3/46105.mp3 to studs-terkel-radio-archive-feed\n",
       "</pre>\n"
      ],
      "text/plain": [
       "Uploading mp3/46105.mp3 to studs-terkel-radio-archive-feed\n"
      ]
     },
     "metadata": {},
     "output_type": "display_data"
    },
    {
     "data": {
      "text/html": [
       "<pre style=\"white-space:pre;overflow-x:auto;line-height:normal;font-family:Menlo,'DejaVu Sans Mono',consolas,'Courier New',monospace\">Uploading mp3/20152.mp3 to studs-terkel-radio-archive-feed\n",
       "</pre>\n"
      ],
      "text/plain": [
       "Uploading mp3/20152.mp3 to studs-terkel-radio-archive-feed\n"
      ]
     },
     "metadata": {},
     "output_type": "display_data"
    },
    {
     "data": {
      "text/html": [
       "<pre style=\"white-space:pre;overflow-x:auto;line-height:normal;font-family:Menlo,'DejaVu Sans Mono',consolas,'Courier New',monospace\">Uploading mp3/10381.mp3 to studs-terkel-radio-archive-feed\n",
       "</pre>\n"
      ],
      "text/plain": [
       "Uploading mp3/10381.mp3 to studs-terkel-radio-archive-feed\n"
      ]
     },
     "metadata": {},
     "output_type": "display_data"
    },
    {
     "data": {
      "text/html": [
       "<pre style=\"white-space:pre;overflow-x:auto;line-height:normal;font-family:Menlo,'DejaVu Sans Mono',consolas,'Courier New',monospace\">Uploading mp3/50267.mp3 to studs-terkel-radio-archive-feed\n",
       "</pre>\n"
      ],
      "text/plain": [
       "Uploading mp3/50267.mp3 to studs-terkel-radio-archive-feed\n"
      ]
     },
     "metadata": {},
     "output_type": "display_data"
    },
    {
     "data": {
      "text/html": [
       "<pre style=\"white-space:pre;overflow-x:auto;line-height:normal;font-family:Menlo,'DejaVu Sans Mono',consolas,'Courier New',monospace\">Uploading mp3/22865.mp3 to studs-terkel-radio-archive-feed\n",
       "</pre>\n"
      ],
      "text/plain": [
       "Uploading mp3/22865.mp3 to studs-terkel-radio-archive-feed\n"
      ]
     },
     "metadata": {},
     "output_type": "display_data"
    },
    {
     "data": {
      "text/html": [
       "<pre style=\"white-space:pre;overflow-x:auto;line-height:normal;font-family:Menlo,'DejaVu Sans Mono',consolas,'Courier New',monospace\">Uploading mp3/23283.mp3 to studs-terkel-radio-archive-feed\n",
       "</pre>\n"
      ],
      "text/plain": [
       "Uploading mp3/23283.mp3 to studs-terkel-radio-archive-feed\n"
      ]
     },
     "metadata": {},
     "output_type": "display_data"
    },
    {
     "data": {
      "text/html": [
       "<pre style=\"white-space:pre;overflow-x:auto;line-height:normal;font-family:Menlo,'DejaVu Sans Mono',consolas,'Courier New',monospace\">Uploading mp3/5891.mp3 to studs-terkel-radio-archive-feed\n",
       "</pre>\n"
      ],
      "text/plain": [
       "Uploading mp3/5891.mp3 to studs-terkel-radio-archive-feed\n"
      ]
     },
     "metadata": {},
     "output_type": "display_data"
    },
    {
     "data": {
      "text/html": [
       "<pre style=\"white-space:pre;overflow-x:auto;line-height:normal;font-family:Menlo,'DejaVu Sans Mono',consolas,'Courier New',monospace\">Uploading mp3/6005.mp3 to studs-terkel-radio-archive-feed\n",
       "</pre>\n"
      ],
      "text/plain": [
       "Uploading mp3/6005.mp3 to studs-terkel-radio-archive-feed\n"
      ]
     },
     "metadata": {},
     "output_type": "display_data"
    },
    {
     "data": {
      "text/html": [
       "<pre style=\"white-space:pre;overflow-x:auto;line-height:normal;font-family:Menlo,'DejaVu Sans Mono',consolas,'Courier New',monospace\">Uploading mp3/56458.mp3 to studs-terkel-radio-archive-feed\n",
       "</pre>\n"
      ],
      "text/plain": [
       "Uploading mp3/56458.mp3 to studs-terkel-radio-archive-feed\n"
      ]
     },
     "metadata": {},
     "output_type": "display_data"
    },
    {
     "data": {
      "text/html": [
       "<pre style=\"white-space:pre;overflow-x:auto;line-height:normal;font-family:Menlo,'DejaVu Sans Mono',consolas,'Courier New',monospace\">Uploading mp3/8136.mp3 to studs-terkel-radio-archive-feed\n",
       "</pre>\n"
      ],
      "text/plain": [
       "Uploading mp3/8136.mp3 to studs-terkel-radio-archive-feed\n"
      ]
     },
     "metadata": {},
     "output_type": "display_data"
    },
    {
     "data": {
      "text/html": [
       "<pre style=\"white-space:pre;overflow-x:auto;line-height:normal;font-family:Menlo,'DejaVu Sans Mono',consolas,'Courier New',monospace\">Uploading mp3/8139.mp3 to studs-terkel-radio-archive-feed\n",
       "</pre>\n"
      ],
      "text/plain": [
       "Uploading mp3/8139.mp3 to studs-terkel-radio-archive-feed\n"
      ]
     },
     "metadata": {},
     "output_type": "display_data"
    },
    {
     "data": {
      "text/html": [
       "<pre style=\"white-space:pre;overflow-x:auto;line-height:normal;font-family:Menlo,'DejaVu Sans Mono',consolas,'Courier New',monospace\">Uploading mp3/12749.mp3 to studs-terkel-radio-archive-feed\n",
       "</pre>\n"
      ],
      "text/plain": [
       "Uploading mp3/12749.mp3 to studs-terkel-radio-archive-feed\n"
      ]
     },
     "metadata": {},
     "output_type": "display_data"
    },
    {
     "data": {
      "text/html": [
       "<pre style=\"white-space:pre;overflow-x:auto;line-height:normal;font-family:Menlo,'DejaVu Sans Mono',consolas,'Courier New',monospace\">Uploading mp3/13572.mp3 to studs-terkel-radio-archive-feed\n",
       "</pre>\n"
      ],
      "text/plain": [
       "Uploading mp3/13572.mp3 to studs-terkel-radio-archive-feed\n"
      ]
     },
     "metadata": {},
     "output_type": "display_data"
    },
    {
     "data": {
      "text/html": [
       "<pre style=\"white-space:pre;overflow-x:auto;line-height:normal;font-family:Menlo,'DejaVu Sans Mono',consolas,'Courier New',monospace\">Uploading mp3/13571.mp3 to studs-terkel-radio-archive-feed\n",
       "</pre>\n"
      ],
      "text/plain": [
       "Uploading mp3/13571.mp3 to studs-terkel-radio-archive-feed\n"
      ]
     },
     "metadata": {},
     "output_type": "display_data"
    },
    {
     "data": {
      "text/html": [
       "<pre style=\"white-space:pre;overflow-x:auto;line-height:normal;font-family:Menlo,'DejaVu Sans Mono',consolas,'Courier New',monospace\">Uploading mp3/12631.mp3 to studs-terkel-radio-archive-feed\n",
       "</pre>\n"
      ],
      "text/plain": [
       "Uploading mp3/12631.mp3 to studs-terkel-radio-archive-feed\n"
      ]
     },
     "metadata": {},
     "output_type": "display_data"
    },
    {
     "data": {
      "text/html": [
       "<pre style=\"white-space:pre;overflow-x:auto;line-height:normal;font-family:Menlo,'DejaVu Sans Mono',consolas,'Courier New',monospace\">Uploading mp3/56013.mp3 to studs-terkel-radio-archive-feed\n",
       "</pre>\n"
      ],
      "text/plain": [
       "Uploading mp3/56013.mp3 to studs-terkel-radio-archive-feed\n"
      ]
     },
     "metadata": {},
     "output_type": "display_data"
    },
    {
     "data": {
      "text/html": [
       "<pre style=\"white-space:pre;overflow-x:auto;line-height:normal;font-family:Menlo,'DejaVu Sans Mono',consolas,'Courier New',monospace\">Uploading mp3/59734.mp3 to studs-terkel-radio-archive-feed\n",
       "</pre>\n"
      ],
      "text/plain": [
       "Uploading mp3/59734.mp3 to studs-terkel-radio-archive-feed\n"
      ]
     },
     "metadata": {},
     "output_type": "display_data"
    },
    {
     "data": {
      "text/html": [
       "<pre style=\"white-space:pre;overflow-x:auto;line-height:normal;font-family:Menlo,'DejaVu Sans Mono',consolas,'Courier New',monospace\">Uploading mp3/23292.mp3 to studs-terkel-radio-archive-feed\n",
       "</pre>\n"
      ],
      "text/plain": [
       "Uploading mp3/23292.mp3 to studs-terkel-radio-archive-feed\n"
      ]
     },
     "metadata": {},
     "output_type": "display_data"
    },
    {
     "data": {
      "text/html": [
       "<pre style=\"white-space:pre;overflow-x:auto;line-height:normal;font-family:Menlo,'DejaVu Sans Mono',consolas,'Courier New',monospace\">Uploading mp3/13190.mp3 to studs-terkel-radio-archive-feed\n",
       "</pre>\n"
      ],
      "text/plain": [
       "Uploading mp3/13190.mp3 to studs-terkel-radio-archive-feed\n"
      ]
     },
     "metadata": {},
     "output_type": "display_data"
    },
    {
     "data": {
      "text/html": [
       "<pre style=\"white-space:pre;overflow-x:auto;line-height:normal;font-family:Menlo,'DejaVu Sans Mono',consolas,'Courier New',monospace\">Uploading mp3/49622.mp3 to studs-terkel-radio-archive-feed\n",
       "</pre>\n"
      ],
      "text/plain": [
       "Uploading mp3/49622.mp3 to studs-terkel-radio-archive-feed\n"
      ]
     },
     "metadata": {},
     "output_type": "display_data"
    },
    {
     "data": {
      "text/html": [
       "<pre style=\"white-space:pre;overflow-x:auto;line-height:normal;font-family:Menlo,'DejaVu Sans Mono',consolas,'Courier New',monospace\">Uploading mp3/30790.mp3 to studs-terkel-radio-archive-feed\n",
       "</pre>\n"
      ],
      "text/plain": [
       "Uploading mp3/30790.mp3 to studs-terkel-radio-archive-feed\n"
      ]
     },
     "metadata": {},
     "output_type": "display_data"
    },
    {
     "data": {
      "text/html": [
       "<pre style=\"white-space:pre;overflow-x:auto;line-height:normal;font-family:Menlo,'DejaVu Sans Mono',consolas,'Courier New',monospace\">Uploading mp3/36354.mp3 to studs-terkel-radio-archive-feed\n",
       "</pre>\n"
      ],
      "text/plain": [
       "Uploading mp3/36354.mp3 to studs-terkel-radio-archive-feed\n"
      ]
     },
     "metadata": {},
     "output_type": "display_data"
    },
    {
     "data": {
      "text/html": [
       "<pre style=\"white-space:pre;overflow-x:auto;line-height:normal;font-family:Menlo,'DejaVu Sans Mono',consolas,'Courier New',monospace\">Uploading mp3/36351.mp3 to studs-terkel-radio-archive-feed\n",
       "</pre>\n"
      ],
      "text/plain": [
       "Uploading mp3/36351.mp3 to studs-terkel-radio-archive-feed\n"
      ]
     },
     "metadata": {},
     "output_type": "display_data"
    },
    {
     "data": {
      "text/html": [
       "<pre style=\"white-space:pre;overflow-x:auto;line-height:normal;font-family:Menlo,'DejaVu Sans Mono',consolas,'Courier New',monospace\">Uploading mp3/41577.mp3 to studs-terkel-radio-archive-feed\n",
       "</pre>\n"
      ],
      "text/plain": [
       "Uploading mp3/41577.mp3 to studs-terkel-radio-archive-feed\n"
      ]
     },
     "metadata": {},
     "output_type": "display_data"
    },
    {
     "data": {
      "text/html": [
       "<pre style=\"white-space:pre;overflow-x:auto;line-height:normal;font-family:Menlo,'DejaVu Sans Mono',consolas,'Courier New',monospace\">Uploading mp3/40802.mp3 to studs-terkel-radio-archive-feed\n",
       "</pre>\n"
      ],
      "text/plain": [
       "Uploading mp3/40802.mp3 to studs-terkel-radio-archive-feed\n"
      ]
     },
     "metadata": {},
     "output_type": "display_data"
    },
    {
     "data": {
      "text/html": [
       "<pre style=\"white-space:pre;overflow-x:auto;line-height:normal;font-family:Menlo,'DejaVu Sans Mono',consolas,'Courier New',monospace\">Uploading mp3/40707.mp3 to studs-terkel-radio-archive-feed\n",
       "</pre>\n"
      ],
      "text/plain": [
       "Uploading mp3/40707.mp3 to studs-terkel-radio-archive-feed\n"
      ]
     },
     "metadata": {},
     "output_type": "display_data"
    },
    {
     "data": {
      "text/html": [
       "<pre style=\"white-space:pre;overflow-x:auto;line-height:normal;font-family:Menlo,'DejaVu Sans Mono',consolas,'Courier New',monospace\">Uploading mp3/40715.mp3 to studs-terkel-radio-archive-feed\n",
       "</pre>\n"
      ],
      "text/plain": [
       "Uploading mp3/40715.mp3 to studs-terkel-radio-archive-feed\n"
      ]
     },
     "metadata": {},
     "output_type": "display_data"
    },
    {
     "data": {
      "text/html": [
       "<pre style=\"white-space:pre;overflow-x:auto;line-height:normal;font-family:Menlo,'DejaVu Sans Mono',consolas,'Courier New',monospace\">Uploading mp3/40568.mp3 to studs-terkel-radio-archive-feed\n",
       "</pre>\n"
      ],
      "text/plain": [
       "Uploading mp3/40568.mp3 to studs-terkel-radio-archive-feed\n"
      ]
     },
     "metadata": {},
     "output_type": "display_data"
    },
    {
     "data": {
      "text/html": [
       "<pre style=\"white-space:pre;overflow-x:auto;line-height:normal;font-family:Menlo,'DejaVu Sans Mono',consolas,'Courier New',monospace\">Uploading mp3/40572.mp3 to studs-terkel-radio-archive-feed\n",
       "</pre>\n"
      ],
      "text/plain": [
       "Uploading mp3/40572.mp3 to studs-terkel-radio-archive-feed\n"
      ]
     },
     "metadata": {},
     "output_type": "display_data"
    },
    {
     "data": {
      "text/html": [
       "<pre style=\"white-space:pre;overflow-x:auto;line-height:normal;font-family:Menlo,'DejaVu Sans Mono',consolas,'Courier New',monospace\">Uploading mp3/13562.mp3 to studs-terkel-radio-archive-feed\n",
       "</pre>\n"
      ],
      "text/plain": [
       "Uploading mp3/13562.mp3 to studs-terkel-radio-archive-feed\n"
      ]
     },
     "metadata": {},
     "output_type": "display_data"
    },
    {
     "data": {
      "text/html": [
       "<pre style=\"white-space:pre;overflow-x:auto;line-height:normal;font-family:Menlo,'DejaVu Sans Mono',consolas,'Courier New',monospace\">Uploading mp3/33504.mp3 to studs-terkel-radio-archive-feed\n",
       "</pre>\n"
      ],
      "text/plain": [
       "Uploading mp3/33504.mp3 to studs-terkel-radio-archive-feed\n"
      ]
     },
     "metadata": {},
     "output_type": "display_data"
    },
    {
     "data": {
      "text/html": [
       "<pre style=\"white-space:pre;overflow-x:auto;line-height:normal;font-family:Menlo,'DejaVu Sans Mono',consolas,'Courier New',monospace\">Uploading mp3/3856.mp3 to studs-terkel-radio-archive-feed\n",
       "</pre>\n"
      ],
      "text/plain": [
       "Uploading mp3/3856.mp3 to studs-terkel-radio-archive-feed\n"
      ]
     },
     "metadata": {},
     "output_type": "display_data"
    },
    {
     "data": {
      "text/html": [
       "<pre style=\"white-space:pre;overflow-x:auto;line-height:normal;font-family:Menlo,'DejaVu Sans Mono',consolas,'Courier New',monospace\">Uploading mp3/13996.mp3 to studs-terkel-radio-archive-feed\n",
       "</pre>\n"
      ],
      "text/plain": [
       "Uploading mp3/13996.mp3 to studs-terkel-radio-archive-feed\n"
      ]
     },
     "metadata": {},
     "output_type": "display_data"
    },
    {
     "data": {
      "text/html": [
       "<pre style=\"white-space:pre;overflow-x:auto;line-height:normal;font-family:Menlo,'DejaVu Sans Mono',consolas,'Courier New',monospace\">Uploading mp3/34361.mp3 to studs-terkel-radio-archive-feed\n",
       "</pre>\n"
      ],
      "text/plain": [
       "Uploading mp3/34361.mp3 to studs-terkel-radio-archive-feed\n"
      ]
     },
     "metadata": {},
     "output_type": "display_data"
    },
    {
     "data": {
      "text/html": [
       "<pre style=\"white-space:pre;overflow-x:auto;line-height:normal;font-family:Menlo,'DejaVu Sans Mono',consolas,'Courier New',monospace\">Uploading mp3/44091.mp3 to studs-terkel-radio-archive-feed\n",
       "</pre>\n"
      ],
      "text/plain": [
       "Uploading mp3/44091.mp3 to studs-terkel-radio-archive-feed\n"
      ]
     },
     "metadata": {},
     "output_type": "display_data"
    },
    {
     "data": {
      "text/html": [
       "<pre style=\"white-space:pre;overflow-x:auto;line-height:normal;font-family:Menlo,'DejaVu Sans Mono',consolas,'Courier New',monospace\">Uploading mp3/45146.mp3 to studs-terkel-radio-archive-feed\n",
       "</pre>\n"
      ],
      "text/plain": [
       "Uploading mp3/45146.mp3 to studs-terkel-radio-archive-feed\n"
      ]
     },
     "metadata": {},
     "output_type": "display_data"
    },
    {
     "data": {
      "text/html": [
       "<pre style=\"white-space:pre;overflow-x:auto;line-height:normal;font-family:Menlo,'DejaVu Sans Mono',consolas,'Courier New',monospace\">Uploading mp3/21847.mp3 to studs-terkel-radio-archive-feed\n",
       "</pre>\n"
      ],
      "text/plain": [
       "Uploading mp3/21847.mp3 to studs-terkel-radio-archive-feed\n"
      ]
     },
     "metadata": {},
     "output_type": "display_data"
    },
    {
     "data": {
      "text/html": [
       "<pre style=\"white-space:pre;overflow-x:auto;line-height:normal;font-family:Menlo,'DejaVu Sans Mono',consolas,'Courier New',monospace\">Uploading mp3/56128.mp3 to studs-terkel-radio-archive-feed\n",
       "</pre>\n"
      ],
      "text/plain": [
       "Uploading mp3/56128.mp3 to studs-terkel-radio-archive-feed\n"
      ]
     },
     "metadata": {},
     "output_type": "display_data"
    },
    {
     "data": {
      "text/html": [
       "<pre style=\"white-space:pre;overflow-x:auto;line-height:normal;font-family:Menlo,'DejaVu Sans Mono',consolas,'Courier New',monospace\">Uploading mp3/42141.mp3 to studs-terkel-radio-archive-feed\n",
       "</pre>\n"
      ],
      "text/plain": [
       "Uploading mp3/42141.mp3 to studs-terkel-radio-archive-feed\n"
      ]
     },
     "metadata": {},
     "output_type": "display_data"
    },
    {
     "data": {
      "text/html": [
       "<pre style=\"white-space:pre;overflow-x:auto;line-height:normal;font-family:Menlo,'DejaVu Sans Mono',consolas,'Courier New',monospace\">Uploading mp3/42146.mp3 to studs-terkel-radio-archive-feed\n",
       "</pre>\n"
      ],
      "text/plain": [
       "Uploading mp3/42146.mp3 to studs-terkel-radio-archive-feed\n"
      ]
     },
     "metadata": {},
     "output_type": "display_data"
    },
    {
     "data": {
      "text/html": [
       "<pre style=\"white-space:pre;overflow-x:auto;line-height:normal;font-family:Menlo,'DejaVu Sans Mono',consolas,'Courier New',monospace\">Uploading mp3/42270.mp3 to studs-terkel-radio-archive-feed\n",
       "</pre>\n"
      ],
      "text/plain": [
       "Uploading mp3/42270.mp3 to studs-terkel-radio-archive-feed\n"
      ]
     },
     "metadata": {},
     "output_type": "display_data"
    },
    {
     "data": {
      "text/html": [
       "<pre style=\"white-space:pre;overflow-x:auto;line-height:normal;font-family:Menlo,'DejaVu Sans Mono',consolas,'Courier New',monospace\">Uploading mp3/56652.mp3 to studs-terkel-radio-archive-feed\n",
       "</pre>\n"
      ],
      "text/plain": [
       "Uploading mp3/56652.mp3 to studs-terkel-radio-archive-feed\n"
      ]
     },
     "metadata": {},
     "output_type": "display_data"
    },
    {
     "data": {
      "text/html": [
       "<pre style=\"white-space:pre;overflow-x:auto;line-height:normal;font-family:Menlo,'DejaVu Sans Mono',consolas,'Courier New',monospace\">Uploading mp3/34353.mp3 to studs-terkel-radio-archive-feed\n",
       "</pre>\n"
      ],
      "text/plain": [
       "Uploading mp3/34353.mp3 to studs-terkel-radio-archive-feed\n"
      ]
     },
     "metadata": {},
     "output_type": "display_data"
    },
    {
     "data": {
      "text/html": [
       "<pre style=\"white-space:pre;overflow-x:auto;line-height:normal;font-family:Menlo,'DejaVu Sans Mono',consolas,'Courier New',monospace\">Uploading mp3/6480.mp3 to studs-terkel-radio-archive-feed\n",
       "</pre>\n"
      ],
      "text/plain": [
       "Uploading mp3/6480.mp3 to studs-terkel-radio-archive-feed\n"
      ]
     },
     "metadata": {},
     "output_type": "display_data"
    },
    {
     "data": {
      "text/html": [
       "<pre style=\"white-space:pre;overflow-x:auto;line-height:normal;font-family:Menlo,'DejaVu Sans Mono',consolas,'Courier New',monospace\">Uploading mp3/29585.mp3 to studs-terkel-radio-archive-feed\n",
       "</pre>\n"
      ],
      "text/plain": [
       "Uploading mp3/29585.mp3 to studs-terkel-radio-archive-feed\n"
      ]
     },
     "metadata": {},
     "output_type": "display_data"
    },
    {
     "data": {
      "text/html": [
       "<pre style=\"white-space:pre;overflow-x:auto;line-height:normal;font-family:Menlo,'DejaVu Sans Mono',consolas,'Courier New',monospace\">Uploading mp3/12228.mp3 to studs-terkel-radio-archive-feed\n",
       "</pre>\n"
      ],
      "text/plain": [
       "Uploading mp3/12228.mp3 to studs-terkel-radio-archive-feed\n"
      ]
     },
     "metadata": {},
     "output_type": "display_data"
    },
    {
     "data": {
      "text/html": [
       "<pre style=\"white-space:pre;overflow-x:auto;line-height:normal;font-family:Menlo,'DejaVu Sans Mono',consolas,'Courier New',monospace\">Uploading mp3/8549.mp3 to studs-terkel-radio-archive-feed\n",
       "</pre>\n"
      ],
      "text/plain": [
       "Uploading mp3/8549.mp3 to studs-terkel-radio-archive-feed\n"
      ]
     },
     "metadata": {},
     "output_type": "display_data"
    },
    {
     "data": {
      "text/html": [
       "<pre style=\"white-space:pre;overflow-x:auto;line-height:normal;font-family:Menlo,'DejaVu Sans Mono',consolas,'Courier New',monospace\">Uploading mp3/57253.mp3 to studs-terkel-radio-archive-feed\n",
       "</pre>\n"
      ],
      "text/plain": [
       "Uploading mp3/57253.mp3 to studs-terkel-radio-archive-feed\n"
      ]
     },
     "metadata": {},
     "output_type": "display_data"
    },
    {
     "data": {
      "text/html": [
       "<pre style=\"white-space:pre;overflow-x:auto;line-height:normal;font-family:Menlo,'DejaVu Sans Mono',consolas,'Courier New',monospace\">Uploading mp3/11364.mp3 to studs-terkel-radio-archive-feed\n",
       "</pre>\n"
      ],
      "text/plain": [
       "Uploading mp3/11364.mp3 to studs-terkel-radio-archive-feed\n"
      ]
     },
     "metadata": {},
     "output_type": "display_data"
    },
    {
     "data": {
      "text/html": [
       "<pre style=\"white-space:pre;overflow-x:auto;line-height:normal;font-family:Menlo,'DejaVu Sans Mono',consolas,'Courier New',monospace\">Uploading mp3/54800.mp3 to studs-terkel-radio-archive-feed\n",
       "</pre>\n"
      ],
      "text/plain": [
       "Uploading mp3/54800.mp3 to studs-terkel-radio-archive-feed\n"
      ]
     },
     "metadata": {},
     "output_type": "display_data"
    },
    {
     "data": {
      "text/html": [
       "<pre style=\"white-space:pre;overflow-x:auto;line-height:normal;font-family:Menlo,'DejaVu Sans Mono',consolas,'Courier New',monospace\">Uploading mp3/54391.mp3 to studs-terkel-radio-archive-feed\n",
       "</pre>\n"
      ],
      "text/plain": [
       "Uploading mp3/54391.mp3 to studs-terkel-radio-archive-feed\n"
      ]
     },
     "metadata": {},
     "output_type": "display_data"
    },
    {
     "data": {
      "text/html": [
       "<pre style=\"white-space:pre;overflow-x:auto;line-height:normal;font-family:Menlo,'DejaVu Sans Mono',consolas,'Courier New',monospace\">Uploading mp3/56719.mp3 to studs-terkel-radio-archive-feed\n",
       "</pre>\n"
      ],
      "text/plain": [
       "Uploading mp3/56719.mp3 to studs-terkel-radio-archive-feed\n"
      ]
     },
     "metadata": {},
     "output_type": "display_data"
    },
    {
     "data": {
      "text/html": [
       "<pre style=\"white-space:pre;overflow-x:auto;line-height:normal;font-family:Menlo,'DejaVu Sans Mono',consolas,'Courier New',monospace\">Uploading mp3/56720.mp3 to studs-terkel-radio-archive-feed\n",
       "</pre>\n"
      ],
      "text/plain": [
       "Uploading mp3/56720.mp3 to studs-terkel-radio-archive-feed\n"
      ]
     },
     "metadata": {},
     "output_type": "display_data"
    },
    {
     "data": {
      "text/html": [
       "<pre style=\"white-space:pre;overflow-x:auto;line-height:normal;font-family:Menlo,'DejaVu Sans Mono',consolas,'Courier New',monospace\">Uploading mp3/55791.mp3 to studs-terkel-radio-archive-feed\n",
       "</pre>\n"
      ],
      "text/plain": [
       "Uploading mp3/55791.mp3 to studs-terkel-radio-archive-feed\n"
      ]
     },
     "metadata": {},
     "output_type": "display_data"
    },
    {
     "data": {
      "text/html": [
       "<pre style=\"white-space:pre;overflow-x:auto;line-height:normal;font-family:Menlo,'DejaVu Sans Mono',consolas,'Courier New',monospace\">Uploading mp3/6648.mp3 to studs-terkel-radio-archive-feed\n",
       "</pre>\n"
      ],
      "text/plain": [
       "Uploading mp3/6648.mp3 to studs-terkel-radio-archive-feed\n"
      ]
     },
     "metadata": {},
     "output_type": "display_data"
    },
    {
     "data": {
      "text/html": [
       "<pre style=\"white-space:pre;overflow-x:auto;line-height:normal;font-family:Menlo,'DejaVu Sans Mono',consolas,'Courier New',monospace\">Uploading mp3/6651.mp3 to studs-terkel-radio-archive-feed\n",
       "</pre>\n"
      ],
      "text/plain": [
       "Uploading mp3/6651.mp3 to studs-terkel-radio-archive-feed\n"
      ]
     },
     "metadata": {},
     "output_type": "display_data"
    },
    {
     "data": {
      "text/html": [
       "<pre style=\"white-space:pre;overflow-x:auto;line-height:normal;font-family:Menlo,'DejaVu Sans Mono',consolas,'Courier New',monospace\">Uploading mp3/56457.mp3 to studs-terkel-radio-archive-feed\n",
       "</pre>\n"
      ],
      "text/plain": [
       "Uploading mp3/56457.mp3 to studs-terkel-radio-archive-feed\n"
      ]
     },
     "metadata": {},
     "output_type": "display_data"
    },
    {
     "data": {
      "text/html": [
       "<pre style=\"white-space:pre;overflow-x:auto;line-height:normal;font-family:Menlo,'DejaVu Sans Mono',consolas,'Courier New',monospace\">Uploading mp3/6173.mp3 to studs-terkel-radio-archive-feed\n",
       "</pre>\n"
      ],
      "text/plain": [
       "Uploading mp3/6173.mp3 to studs-terkel-radio-archive-feed\n"
      ]
     },
     "metadata": {},
     "output_type": "display_data"
    },
    {
     "data": {
      "text/html": [
       "<pre style=\"white-space:pre;overflow-x:auto;line-height:normal;font-family:Menlo,'DejaVu Sans Mono',consolas,'Courier New',monospace\">Uploading mp3/6197.mp3 to studs-terkel-radio-archive-feed\n",
       "</pre>\n"
      ],
      "text/plain": [
       "Uploading mp3/6197.mp3 to studs-terkel-radio-archive-feed\n"
      ]
     },
     "metadata": {},
     "output_type": "display_data"
    },
    {
     "data": {
      "text/html": [
       "<pre style=\"white-space:pre;overflow-x:auto;line-height:normal;font-family:Menlo,'DejaVu Sans Mono',consolas,'Courier New',monospace\">Uploading mp3/6200.mp3 to studs-terkel-radio-archive-feed\n",
       "</pre>\n"
      ],
      "text/plain": [
       "Uploading mp3/6200.mp3 to studs-terkel-radio-archive-feed\n"
      ]
     },
     "metadata": {},
     "output_type": "display_data"
    },
    {
     "data": {
      "text/html": [
       "<pre style=\"white-space:pre;overflow-x:auto;line-height:normal;font-family:Menlo,'DejaVu Sans Mono',consolas,'Courier New',monospace\">Uploading mp3/13106.mp3 to studs-terkel-radio-archive-feed\n",
       "</pre>\n"
      ],
      "text/plain": [
       "Uploading mp3/13106.mp3 to studs-terkel-radio-archive-feed\n"
      ]
     },
     "metadata": {},
     "output_type": "display_data"
    },
    {
     "data": {
      "text/html": [
       "<pre style=\"white-space:pre;overflow-x:auto;line-height:normal;font-family:Menlo,'DejaVu Sans Mono',consolas,'Courier New',monospace\">Uploading mp3/13105.mp3 to studs-terkel-radio-archive-feed\n",
       "</pre>\n"
      ],
      "text/plain": [
       "Uploading mp3/13105.mp3 to studs-terkel-radio-archive-feed\n"
      ]
     },
     "metadata": {},
     "output_type": "display_data"
    },
    {
     "data": {
      "text/html": [
       "<pre style=\"white-space:pre;overflow-x:auto;line-height:normal;font-family:Menlo,'DejaVu Sans Mono',consolas,'Courier New',monospace\">Uploading mp3/11472.mp3 to studs-terkel-radio-archive-feed\n",
       "</pre>\n"
      ],
      "text/plain": [
       "Uploading mp3/11472.mp3 to studs-terkel-radio-archive-feed\n"
      ]
     },
     "metadata": {},
     "output_type": "display_data"
    },
    {
     "data": {
      "text/html": [
       "<pre style=\"white-space:pre;overflow-x:auto;line-height:normal;font-family:Menlo,'DejaVu Sans Mono',consolas,'Courier New',monospace\">Uploading mp3/22912.mp3 to studs-terkel-radio-archive-feed\n",
       "</pre>\n"
      ],
      "text/plain": [
       "Uploading mp3/22912.mp3 to studs-terkel-radio-archive-feed\n"
      ]
     },
     "metadata": {},
     "output_type": "display_data"
    },
    {
     "data": {
      "text/html": [
       "<pre style=\"white-space:pre;overflow-x:auto;line-height:normal;font-family:Menlo,'DejaVu Sans Mono',consolas,'Courier New',monospace\">Uploading mp3/15082.mp3 to studs-terkel-radio-archive-feed\n",
       "</pre>\n"
      ],
      "text/plain": [
       "Uploading mp3/15082.mp3 to studs-terkel-radio-archive-feed\n"
      ]
     },
     "metadata": {},
     "output_type": "display_data"
    },
    {
     "data": {
      "text/html": [
       "<pre style=\"white-space:pre;overflow-x:auto;line-height:normal;font-family:Menlo,'DejaVu Sans Mono',consolas,'Courier New',monospace\">Uploading mp3/13551.mp3 to studs-terkel-radio-archive-feed\n",
       "</pre>\n"
      ],
      "text/plain": [
       "Uploading mp3/13551.mp3 to studs-terkel-radio-archive-feed\n"
      ]
     },
     "metadata": {},
     "output_type": "display_data"
    },
    {
     "data": {
      "text/html": [
       "<pre style=\"white-space:pre;overflow-x:auto;line-height:normal;font-family:Menlo,'DejaVu Sans Mono',consolas,'Courier New',monospace\">Uploading mp3/13552.mp3 to studs-terkel-radio-archive-feed\n",
       "</pre>\n"
      ],
      "text/plain": [
       "Uploading mp3/13552.mp3 to studs-terkel-radio-archive-feed\n"
      ]
     },
     "metadata": {},
     "output_type": "display_data"
    },
    {
     "data": {
      "text/html": [
       "<pre style=\"white-space:pre;overflow-x:auto;line-height:normal;font-family:Menlo,'DejaVu Sans Mono',consolas,'Courier New',monospace\">Uploading mp3/34390.mp3 to studs-terkel-radio-archive-feed\n",
       "</pre>\n"
      ],
      "text/plain": [
       "Uploading mp3/34390.mp3 to studs-terkel-radio-archive-feed\n"
      ]
     },
     "metadata": {},
     "output_type": "display_data"
    },
    {
     "data": {
      "text/html": [
       "<pre style=\"white-space:pre;overflow-x:auto;line-height:normal;font-family:Menlo,'DejaVu Sans Mono',consolas,'Courier New',monospace\">Uploading mp3/2724.mp3 to studs-terkel-radio-archive-feed\n",
       "</pre>\n"
      ],
      "text/plain": [
       "Uploading mp3/2724.mp3 to studs-terkel-radio-archive-feed\n"
      ]
     },
     "metadata": {},
     "output_type": "display_data"
    },
    {
     "data": {
      "text/html": [
       "<pre style=\"white-space:pre;overflow-x:auto;line-height:normal;font-family:Menlo,'DejaVu Sans Mono',consolas,'Courier New',monospace\">Uploading mp3/18621.mp3 to studs-terkel-radio-archive-feed\n",
       "</pre>\n"
      ],
      "text/plain": [
       "Uploading mp3/18621.mp3 to studs-terkel-radio-archive-feed\n"
      ]
     },
     "metadata": {},
     "output_type": "display_data"
    },
    {
     "data": {
      "text/html": [
       "<pre style=\"white-space:pre;overflow-x:auto;line-height:normal;font-family:Menlo,'DejaVu Sans Mono',consolas,'Courier New',monospace\"></pre>\n"
      ],
      "text/plain": []
     },
     "metadata": {},
     "output_type": "display_data"
    },
    {
     "data": {
      "text/html": [
       "<pre style=\"white-space:pre;overflow-x:auto;line-height:normal;font-family:Menlo,'DejaVu Sans Mono',consolas,'Courier New',monospace\">\n",
       "</pre>\n"
      ],
      "text/plain": [
       "\n"
      ]
     },
     "metadata": {},
     "output_type": "display_data"
    }
   ],
   "source": [
    "for path in track(list(feed_df.mp3_path)):\n",
    "    client.upload_file(\n",
    "        str(path),\n",
    "        bucket,\n",
    "        str(path),\n",
    "        extra_args={'ACL': 'public-read', 'ContentType': 'audio/mpeg'}\n",
    "    )"
   ]
  },
  {
   "cell_type": "code",
   "execution_count": null,
   "metadata": {},
   "outputs": [],
   "source": [
    "feed_df['feed_url'] = feed_df.mp3_path.apply(lambda x: f'https://studs-terkel-radio-archive-feed.s3.amazonaws.com/{x}')"
   ]
  },
  {
   "cell_type": "code",
   "execution_count": null,
   "metadata": {},
   "outputs": [],
   "source": [
    "feed_df.sort_values([\"feed_date\"]).to_csv(\"../data/feed.csv\", index=False)"
   ]
  }
 ],
 "metadata": {
  "kernelspec": {
   "display_name": "Python 3 (ipykernel)",
   "language": "python",
   "name": "python3"
  },
  "language_info": {
   "codemirror_mode": {
    "name": "ipython",
    "version": 3
   },
   "file_extension": ".py",
   "mimetype": "text/x-python",
   "name": "python",
   "nbconvert_exporter": "python",
   "pygments_lexer": "ipython3",
   "version": "3.9.2"
  }
 },
 "nbformat": 4,
 "nbformat_minor": 4
}
