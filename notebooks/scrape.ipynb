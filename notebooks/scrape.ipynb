{
 "cells": [
  {
   "cell_type": "markdown",
   "metadata": {},
   "source": [
    "# Stude Terkel Radio Archive Scraper\n",
    "\n",
    "Downloads program information from [WFMT's archive](https://studsterkel.wfmt.com/explore#t=date) of radio programs hosted by Studs Terkel."
   ]
  },
  {
   "cell_type": "markdown",
   "metadata": {},
   "source": [
    "### Import Python tools"
   ]
  },
  {
   "cell_type": "code",
   "execution_count": 1,
   "metadata": {},
   "outputs": [],
   "source": [
    "import os\n",
    "import time\n",
    "import boto3\n",
    "import requests\n",
    "import pandas as pd\n",
    "import urllib.request\n",
    "from datetime import date\n",
    "from bs4 import BeautifulSoup\n",
    "from boto3.s3.transfer import S3Transfer"
   ]
  },
  {
   "cell_type": "markdown",
   "metadata": {},
   "source": [
    "### Download program list"
   ]
  },
  {
   "cell_type": "markdown",
   "metadata": {},
   "source": [
    "Fetch the URL"
   ]
  },
  {
   "cell_type": "code",
   "execution_count": null,
   "metadata": {},
   "outputs": [],
   "source": [
    "r = requests.get(\"https://studsterkel.wfmt.com/explore#t=date\")"
   ]
  },
  {
   "cell_type": "markdown",
   "metadata": {},
   "source": [
    "Parse it"
   ]
  },
  {
   "cell_type": "code",
   "execution_count": null,
   "metadata": {},
   "outputs": [],
   "source": [
    "html = r.text"
   ]
  },
  {
   "cell_type": "code",
   "execution_count": null,
   "metadata": {},
   "outputs": [],
   "source": [
    "soup = BeautifulSoup(html)"
   ]
  },
  {
   "cell_type": "markdown",
   "metadata": {},
   "source": [
    "Pull all the segemented blocks on the page"
   ]
  },
  {
   "cell_type": "code",
   "execution_count": null,
   "metadata": {},
   "outputs": [],
   "source": [
    "year_list = soup.find_all(class_=\"prog_year_block\")"
   ]
  },
  {
   "cell_type": "markdown",
   "metadata": {},
   "source": [
    "Loop through them and grab all the URLs, which lead to program pages."
   ]
  },
  {
   "cell_type": "code",
   "execution_count": null,
   "metadata": {},
   "outputs": [],
   "source": [
    "link_list = []"
   ]
  },
  {
   "cell_type": "code",
   "execution_count": null,
   "metadata": {},
   "outputs": [],
   "source": [
    "for year in year_list:\n",
    "    a_list = year.find_all(\"a\")\n",
    "    link_list.extend([a['href'] for a in a_list])"
   ]
  },
  {
   "cell_type": "markdown",
   "metadata": {},
   "source": [
    "Make sure that list is unique"
   ]
  },
  {
   "cell_type": "code",
   "execution_count": null,
   "metadata": {},
   "outputs": [],
   "source": [
    "unique_links = set(link_list)"
   ]
  },
  {
   "cell_type": "markdown",
   "metadata": {},
   "source": [
    "Print the total number of URLs"
   ]
  },
  {
   "cell_type": "code",
   "execution_count": null,
   "metadata": {},
   "outputs": [],
   "source": [
    "len(unique_links)"
   ]
  },
  {
   "cell_type": "markdown",
   "metadata": {},
   "source": [
    "### Scrape program pages"
   ]
  },
  {
   "cell_type": "markdown",
   "metadata": {},
   "source": [
    "Prepare functions to parse pages"
   ]
  },
  {
   "cell_type": "code",
   "execution_count": null,
   "metadata": {},
   "outputs": [],
   "source": [
    "def parse_meta(e):\n",
    "    \"\"\"\n",
    "    Parse a grid cell of metadata from the bottom of a program page.\n",
    "    \"\"\"\n",
    "    # Get all the p tags\n",
    "    p_list = e.find_all(\"p\")\n",
    "    d = {}\n",
    "    for p in p_list:\n",
    "        # Split out the bolded text as the label\n",
    "        label = p.strong.text\n",
    "        p.strong.extract()\n",
    "        # Keep the rest as the value\n",
    "        value = p.text.strip()\n",
    "        # Add to the dictionary\n",
    "        d[label] = value\n",
    "    # Return all dictionaries in this block\n",
    "    return d"
   ]
  },
  {
   "cell_type": "code",
   "execution_count": null,
   "metadata": {},
   "outputs": [],
   "source": [
    "def scrape_program(url):\n",
    "    \"\"\"\n",
    "    Scrape a program page and return data.\n",
    "    \"\"\"\n",
    "    # Request the page\n",
    "    print(f\"Scraping https://studsterkel.wfmt.com{url}\")\n",
    "    headers = {\n",
    "        'User-Agent': 'Studs Terkel Radio Archive Scraper (github.com/pastpages/studs-terkel-radio-feed/)',\n",
    "    }\n",
    "    r = requests.get(f\"https://studsterkel.wfmt.com{url}\", headers=headers)\n",
    "    if not r.status_code == 200:\n",
    "        print(f\"Failed with status code {r.status_code}\")\n",
    "        return None\n",
    "\n",
    "    # Parse the HTML\n",
    "    html = r.text\n",
    "    soup = BeautifulSoup(html)\n",
    "    \n",
    "    # Pull out the title\n",
    "    title = soup.find(\"h1\").text\n",
    "    \n",
    "    # Parse out all metadata\n",
    "    meta = {}\n",
    "    for e in soup.find(class_=\"meta_data__section\").find_all(class_=\"col-4\"):\n",
    "        meta.update(parse_meta(e))\n",
    "    \n",
    "    # Grab the MP3 URL, if it exists\n",
    "    media = soup.find(class_=\"audio_trigger\")\n",
    "    if media:\n",
    "        mp3_url = media['data-track-url']\n",
    "    else:\n",
    "        mp3_url = None\n",
    "    \n",
    "    # Grab the synopsis, if it exists\n",
    "    summary = soup.find(class_=\"program_synopsis__body\")\n",
    "    if summary:\n",
    "        synopsis = summary.h2.text\n",
    "    else:\n",
    "        synopsis = None\n",
    "    \n",
    "    # Return the scraped data\n",
    "    return dict(\n",
    "        title=title,\n",
    "        mp3_url=mp3_url,\n",
    "        archive_url=url,\n",
    "        synopsis=synopsis,\n",
    "        **meta\n",
    "    )"
   ]
  },
  {
   "cell_type": "markdown",
   "metadata": {},
   "source": [
    "Loop through all URLs and scrape each individual page."
   ]
  },
  {
   "cell_type": "code",
   "execution_count": null,
   "metadata": {},
   "outputs": [],
   "source": [
    "program_list, dud_list = [], []"
   ]
  },
  {
   "cell_type": "code",
   "execution_count": null,
   "metadata": {},
   "outputs": [],
   "source": [
    "for url in list(unique_links):\n",
    "    d = scrape_program(url)\n",
    "    if d:\n",
    "        program_list.append(d)\n",
    "    else:\n",
    "        dud_list.append(url)\n",
    "    time.sleep(0.33)"
   ]
  },
  {
   "cell_type": "markdown",
   "metadata": {},
   "source": [
    "Repeat with the duds to give them a second chance"
   ]
  },
  {
   "cell_type": "code",
   "execution_count": null,
   "metadata": {},
   "outputs": [],
   "source": [
    "for url in dud_list:\n",
    "    d = scrape_program(url)\n",
    "    if d:\n",
    "        program_list.append(d)\n",
    "    else:\n",
    "        pass\n",
    "    time.sleep(0.33)"
   ]
  },
  {
   "cell_type": "markdown",
   "metadata": {},
   "source": [
    "Convert to a dataframe"
   ]
  },
  {
   "cell_type": "code",
   "execution_count": null,
   "metadata": {},
   "outputs": [],
   "source": [
    "df = pd.DataFrame(program_list).rename(columns={\n",
    "    \"Broadcast Date\": \"broadcast_date\",\n",
    "    \"Physical Format\": \"physical_format\",\n",
    "    \"Digital Format\": \"digital_format\",\n",
    "    \"Ownership\": \"ownership\",\n",
    "    \"Language\": \"language\",\n",
    "    \"Program Sponsor\": \"program_sponsor\",\n",
    "    \"Duration\": \"duration\"\n",
    "})"
   ]
  },
  {
   "cell_type": "markdown",
   "metadata": {},
   "source": [
    "Calculate extra columns"
   ]
  },
  {
   "cell_type": "code",
   "execution_count": null,
   "metadata": {},
   "outputs": [],
   "source": [
    "def parse_date(s):\n",
    "    if pd.isnull(s):\n",
    "        return None\n",
    "    try:\n",
    "        month, day, year = s.split(\" \")\n",
    "    except ValueError:\n",
    "        return None\n",
    "    return pd.to_datetime(s)"
   ]
  },
  {
   "cell_type": "code",
   "execution_count": null,
   "metadata": {},
   "outputs": [],
   "source": [
    "df['broadcast_datetime'] = df.broadcast_date.apply(parse_date)"
   ]
  },
  {
   "cell_type": "code",
   "execution_count": null,
   "metadata": {},
   "outputs": [],
   "source": [
    "df['broadcast_year'] = df.broadcast_datetime.dt.year"
   ]
  },
  {
   "cell_type": "code",
   "execution_count": null,
   "metadata": {},
   "outputs": [],
   "source": [
    "df['broadcast_month'] = df.broadcast_datetime.dt.month"
   ]
  },
  {
   "cell_type": "code",
   "execution_count": null,
   "metadata": {},
   "outputs": [],
   "source": [
    "df['broadcast_monthday'] = df.broadcast_datetime.dt.day"
   ]
  },
  {
   "cell_type": "code",
   "execution_count": null,
   "metadata": {},
   "outputs": [],
   "source": [
    "df['has_mp3_url'] = ~pd.isnull(df.mp3_url)"
   ]
  },
  {
   "cell_type": "markdown",
   "metadata": {},
   "source": [
    "Validate results"
   ]
  },
  {
   "cell_type": "code",
   "execution_count": null,
   "metadata": {},
   "outputs": [],
   "source": [
    "assert len(df) == len(unique_links)"
   ]
  },
  {
   "cell_type": "markdown",
   "metadata": {},
   "source": [
    "Calculate statistics"
   ]
  },
  {
   "cell_type": "code",
   "execution_count": null,
   "metadata": {},
   "outputs": [],
   "source": [
    "df.has_mp3_url.value_counts()"
   ]
  },
  {
   "cell_type": "markdown",
   "metadata": {},
   "source": [
    "### Export"
   ]
  },
  {
   "cell_type": "code",
   "execution_count": null,
   "metadata": {},
   "outputs": [],
   "source": [
    "df.sort_values([\"broadcast_month\", \"broadcast_monthday\", \"broadcast_year\"]).to_csv(\"./data/programs.csv\", index=False)"
   ]
  },
  {
   "cell_type": "markdown",
   "metadata": {},
   "source": [
    "### Download mp3 files"
   ]
  },
  {
   "cell_type": "code",
   "execution_count": 2,
   "metadata": {},
   "outputs": [],
   "source": [
    "sked = pd.read_csv(\"./data/schedule.csv\")"
   ]
  },
  {
   "cell_type": "code",
   "execution_count": 4,
   "metadata": {},
   "outputs": [],
   "source": [
    "programs = pd.read_csv(\"./data/programs.csv\")"
   ]
  },
  {
   "cell_type": "code",
   "execution_count": 5,
   "metadata": {},
   "outputs": [],
   "source": [
    "feed_df = sked[~pd.isnull(sked.archive_url)].merge(\n",
    "    programs,\n",
    "    on=\"archive_url\",\n",
    "    how=\"inner\"\n",
    ")"
   ]
  },
  {
   "cell_type": "code",
   "execution_count": 8,
   "metadata": {},
   "outputs": [],
   "source": [
    "def download_mp3(mp3_url):\n",
    "    \"\"\"\n",
    "    Download the mp3 URL and return the local file path.\n",
    "    \"\"\"\n",
    "    # If there's no URL, there's no path\n",
    "    if not mp3_url:\n",
    "        return None\n",
    "    \n",
    "    # Build the local path using the URL\n",
    "    filename = mp3_url.split(\"/\")[-1].replace(\"published%2F\", \"\")\n",
    "    filepath = f\"mp3/{filename}\"\n",
    "    \n",
    "    # If the file is already downloaded, we're good to go\n",
    "    if os.path.exists(filepath):\n",
    "        print(f\"Already downloaded to {filepath}\")\n",
    "    # If not, download it\n",
    "    else:\n",
    "        print(f\"Downloading {mp3_url} to {filepath}\")\n",
    "        opener = urllib.request.build_opener()\n",
    "        opener.addheaders = [(\"Referer\", \"https://studsterkel.wfmt.com/\")]\n",
    "        urllib.request.install_opener(opener)\n",
    "        urllib.request.urlretrieve(mp3_url, filepath)\n",
    "        time.sleep(0.33)\n",
    "\n",
    "    # Return the path\n",
    "    return filepath"
   ]
  },
  {
   "cell_type": "code",
   "execution_count": 9,
   "metadata": {},
   "outputs": [
    {
     "name": "stdout",
     "output_type": "stream",
     "text": [
      "Downloading https://wfmt-studs-terkel.s3.amazonaws.com/published%2F40605.mp3 to mp3/40605.mp3\n",
      "Downloading https://wfmt-studs-terkel.s3.amazonaws.com/published%2F33489.mp3 to mp3/33489.mp3\n",
      "Already downloaded to mp3/6537.mp3\n",
      "Already downloaded to mp3/28275.mp3\n",
      "Already downloaded to mp3/10904.mp3\n",
      "Already downloaded to mp3/2158.mp3\n",
      "Already downloaded to mp3/5942.mp3\n",
      "Already downloaded to mp3/33494.mp3\n",
      "Already downloaded to mp3/18777.mp3\n",
      "Downloading https://wfmt-studs-terkel.s3.amazonaws.com/published%2F32660.mp3 to mp3/32660.mp3\n",
      "Already downloaded to mp3/11142.mp3\n",
      "Already downloaded to mp3/10766.mp3\n",
      "Already downloaded to mp3/10125.mp3\n",
      "Already downloaded to mp3/6826.mp3\n",
      "Downloading https://wfmt-studs-terkel.s3.amazonaws.com/published%2F37043.mp3 to mp3/37043.mp3\n",
      "Already downloaded to mp3/19604.mp3\n",
      "Already downloaded to mp3/6905.mp3\n",
      "Already downloaded to mp3/10734.mp3\n",
      "Already downloaded to mp3/9802.mp3\n",
      "Already downloaded to mp3/9901.mp3\n",
      "Already downloaded to mp3/11705.mp3\n",
      "Already downloaded to mp3/11909.mp3\n",
      "Downloading https://s3.amazonaws.com/wfmt-studs-terkel/published%2F26548.mp3 to mp3/26548.mp3\n",
      "Downloading https://s3.amazonaws.com/wfmt-studs-terkel/published%2F22930.mp3 to mp3/22930.mp3\n",
      "Already downloaded to mp3/9013.mp3\n",
      "Already downloaded to mp3/14128.mp3\n",
      "Downloading https://wfmt-studs-terkel.s3.amazonaws.com/published%2F38033.mp3 to mp3/38033.mp3\n",
      "Already downloaded to mp3/13921.mp3\n",
      "Already downloaded to mp3/9924.mp3\n"
     ]
    }
   ],
   "source": [
    "feed_df['mp3_path'] = feed_df.mp3_url.apply(download_mp3)"
   ]
  },
  {
   "cell_type": "code",
   "execution_count": 12,
   "metadata": {},
   "outputs": [],
   "source": [
    "def _get_s3_client(bucket, region=\"us-east-1\"):\n",
    "    \"\"\"\n",
    "    Returns a transfer client ready to upload files to an s3 bucket.\n",
    "    Provide the S3 bucket name and region.\n",
    "    \"\"\"\n",
    "    credentials = { \n",
    "        'aws_access_key_id': os.getenv('AWS_ACCESS_KEY_ID'),\n",
    "        'aws_secret_access_key': os.getenv('AWS_ACCESS_KEY_SECRET')\n",
    "    }\n",
    "    client = boto3.client('s3', region, **credentials)\n",
    "    return S3Transfer(client)"
   ]
  },
  {
   "cell_type": "code",
   "execution_count": 13,
   "metadata": {},
   "outputs": [
    {
     "name": "stdout",
     "output_type": "stream",
     "text": [
      "Uploading mp3/40605.mp3 to studs-terkel-radio-archive-feed\n",
      "Uploading mp3/33489.mp3 to studs-terkel-radio-archive-feed\n",
      "Uploading mp3/6537.mp3 to studs-terkel-radio-archive-feed\n",
      "Uploading mp3/28275.mp3 to studs-terkel-radio-archive-feed\n",
      "Uploading mp3/10904.mp3 to studs-terkel-radio-archive-feed\n",
      "Uploading mp3/2158.mp3 to studs-terkel-radio-archive-feed\n",
      "Uploading mp3/5942.mp3 to studs-terkel-radio-archive-feed\n",
      "Uploading mp3/33494.mp3 to studs-terkel-radio-archive-feed\n",
      "Uploading mp3/18777.mp3 to studs-terkel-radio-archive-feed\n",
      "Uploading mp3/32660.mp3 to studs-terkel-radio-archive-feed\n",
      "Uploading mp3/11142.mp3 to studs-terkel-radio-archive-feed\n",
      "Uploading mp3/10766.mp3 to studs-terkel-radio-archive-feed\n",
      "Uploading mp3/10125.mp3 to studs-terkel-radio-archive-feed\n",
      "Uploading mp3/6826.mp3 to studs-terkel-radio-archive-feed\n",
      "Uploading mp3/37043.mp3 to studs-terkel-radio-archive-feed\n",
      "Uploading mp3/19604.mp3 to studs-terkel-radio-archive-feed\n",
      "Uploading mp3/6905.mp3 to studs-terkel-radio-archive-feed\n",
      "Uploading mp3/10734.mp3 to studs-terkel-radio-archive-feed\n",
      "Uploading mp3/9802.mp3 to studs-terkel-radio-archive-feed\n",
      "Uploading mp3/9901.mp3 to studs-terkel-radio-archive-feed\n",
      "Uploading mp3/11705.mp3 to studs-terkel-radio-archive-feed\n",
      "Uploading mp3/11909.mp3 to studs-terkel-radio-archive-feed\n",
      "Uploading mp3/26548.mp3 to studs-terkel-radio-archive-feed\n",
      "Uploading mp3/22930.mp3 to studs-terkel-radio-archive-feed\n",
      "Uploading mp3/9013.mp3 to studs-terkel-radio-archive-feed\n",
      "Uploading mp3/14128.mp3 to studs-terkel-radio-archive-feed\n",
      "Uploading mp3/38033.mp3 to studs-terkel-radio-archive-feed\n",
      "Uploading mp3/13921.mp3 to studs-terkel-radio-archive-feed\n",
      "Uploading mp3/9924.mp3 to studs-terkel-radio-archive-feed\n"
     ]
    }
   ],
   "source": [
    "bucket = 'studs-terkel-radio-archive-feed'\n",
    "client = _get_s3_client(bucket)\n",
    "for path in list(feed_df.mp3_path):\n",
    "    print(f\"Uploading {path} to {bucket}\")\n",
    "    client.upload_file(\n",
    "        path,\n",
    "        bucket,\n",
    "        path,\n",
    "        extra_args={'ACL': 'public-read', 'ContentType': 'audio/mpeg'}\n",
    "    )"
   ]
  },
  {
   "cell_type": "code",
   "execution_count": 14,
   "metadata": {},
   "outputs": [],
   "source": [
    "feed_df['feed_url'] = feed_df.mp3_path.apply(lambda x: f'https://studs-terkel-radio-archive-feed.s3.amazonaws.com/{x}')"
   ]
  },
  {
   "cell_type": "code",
   "execution_count": 15,
   "metadata": {},
   "outputs": [],
   "source": [
    "feed_df.sort_values([\"feed_date\"]).to_csv(\"./data/feed.csv\", index=False)"
   ]
  }
 ],
 "metadata": {
  "kernelspec": {
   "display_name": "Python 3",
   "language": "python",
   "name": "python3"
  },
  "language_info": {
   "codemirror_mode": {
    "name": "ipython",
    "version": 3
   },
   "file_extension": ".py",
   "mimetype": "text/x-python",
   "name": "python",
   "nbconvert_exporter": "python",
   "pygments_lexer": "ipython3",
   "version": "3.8.5"
  }
 },
 "nbformat": 4,
 "nbformat_minor": 4
}
