{
 "cells": [
  {
   "cell_type": "markdown",
   "metadata": {},
   "source": [
    "# Stude Terkel Radio Archive Scraper\n",
    "\n",
    "Downloads program information from [WFMT's archive](https://studsterkel.wfmt.com/explore#t=date) of radio programs hosted by Studs Terkel."
   ]
  },
  {
   "cell_type": "markdown",
   "metadata": {},
   "source": [
    "### Import Python tools"
   ]
  },
  {
   "cell_type": "code",
   "execution_count": 40,
   "metadata": {},
   "outputs": [],
   "source": [
    "import os\n",
    "import time\n",
    "import boto3\n",
    "import requests\n",
    "import pathlib\n",
    "import pandas as pd\n",
    "import urllib.request\n",
    "from datetime import date\n",
    "from bs4 import BeautifulSoup\n",
    "from boto3.s3.transfer import S3Transfer"
   ]
  },
  {
   "cell_type": "markdown",
   "metadata": {},
   "source": [
    "### Download program list"
   ]
  },
  {
   "cell_type": "markdown",
   "metadata": {},
   "source": [
    "Fetch the URL"
   ]
  },
  {
   "cell_type": "code",
   "execution_count": null,
   "metadata": {},
   "outputs": [],
   "source": [
    "r = requests.get(\"https://studsterkel.wfmt.com/explore#t=date\")"
   ]
  },
  {
   "cell_type": "markdown",
   "metadata": {},
   "source": [
    "Parse it"
   ]
  },
  {
   "cell_type": "code",
   "execution_count": null,
   "metadata": {},
   "outputs": [],
   "source": [
    "html = r.text"
   ]
  },
  {
   "cell_type": "code",
   "execution_count": null,
   "metadata": {},
   "outputs": [],
   "source": [
    "soup = BeautifulSoup(html)"
   ]
  },
  {
   "cell_type": "markdown",
   "metadata": {},
   "source": [
    "Pull all the segemented blocks on the page"
   ]
  },
  {
   "cell_type": "code",
   "execution_count": null,
   "metadata": {},
   "outputs": [],
   "source": [
    "year_list = soup.find_all(class_=\"prog_year_block\")"
   ]
  },
  {
   "cell_type": "markdown",
   "metadata": {},
   "source": [
    "Loop through them and grab all the URLs, which lead to program pages."
   ]
  },
  {
   "cell_type": "code",
   "execution_count": null,
   "metadata": {},
   "outputs": [],
   "source": [
    "link_list = []"
   ]
  },
  {
   "cell_type": "code",
   "execution_count": null,
   "metadata": {},
   "outputs": [],
   "source": [
    "for year in year_list:\n",
    "    a_list = year.find_all(\"a\")\n",
    "    link_list.extend([a['href'] for a in a_list])"
   ]
  },
  {
   "cell_type": "markdown",
   "metadata": {},
   "source": [
    "Make sure that list is unique"
   ]
  },
  {
   "cell_type": "code",
   "execution_count": null,
   "metadata": {},
   "outputs": [],
   "source": [
    "unique_links = set(link_list)"
   ]
  },
  {
   "cell_type": "markdown",
   "metadata": {},
   "source": [
    "Print the total number of URLs"
   ]
  },
  {
   "cell_type": "code",
   "execution_count": null,
   "metadata": {},
   "outputs": [],
   "source": [
    "len(unique_links)"
   ]
  },
  {
   "cell_type": "markdown",
   "metadata": {},
   "source": [
    "### Scrape program pages"
   ]
  },
  {
   "cell_type": "markdown",
   "metadata": {},
   "source": [
    "Prepare functions to parse pages"
   ]
  },
  {
   "cell_type": "code",
   "execution_count": null,
   "metadata": {},
   "outputs": [],
   "source": [
    "def parse_meta(e):\n",
    "    \"\"\"\n",
    "    Parse a grid cell of metadata from the bottom of a program page.\n",
    "    \"\"\"\n",
    "    # Get all the p tags\n",
    "    p_list = e.find_all(\"p\")\n",
    "    d = {}\n",
    "    for p in p_list:\n",
    "        # Split out the bolded text as the label\n",
    "        label = p.strong.text\n",
    "        p.strong.extract()\n",
    "        # Keep the rest as the value\n",
    "        value = p.text.strip()\n",
    "        # Add to the dictionary\n",
    "        d[label] = value\n",
    "    # Return all dictionaries in this block\n",
    "    return d"
   ]
  },
  {
   "cell_type": "code",
   "execution_count": null,
   "metadata": {},
   "outputs": [],
   "source": [
    "def scrape_program(url):\n",
    "    \"\"\"\n",
    "    Scrape a program page and return data.\n",
    "    \"\"\"\n",
    "    # Request the page\n",
    "    print(f\"Scraping https://studsterkel.wfmt.com{url}\")\n",
    "    headers = {\n",
    "        'User-Agent': 'Studs Terkel Radio Archive Scraper (github.com/pastpages/studs-terkel-radio-feed/)',\n",
    "    }\n",
    "    r = requests.get(f\"https://studsterkel.wfmt.com{url}\", headers=headers)\n",
    "    if not r.status_code == 200:\n",
    "        print(f\"Failed with status code {r.status_code}\")\n",
    "        return None\n",
    "\n",
    "    # Parse the HTML\n",
    "    html = r.text\n",
    "    soup = BeautifulSoup(html)\n",
    "    \n",
    "    # Pull out the title\n",
    "    title = soup.find(\"h1\").text\n",
    "    \n",
    "    # Parse out all metadata\n",
    "    meta = {}\n",
    "    for e in soup.find(class_=\"meta_data__section\").find_all(class_=\"col-4\"):\n",
    "        meta.update(parse_meta(e))\n",
    "    \n",
    "    # Grab the MP3 URL, if it exists\n",
    "    media = soup.find(class_=\"audio_trigger\")\n",
    "    if media:\n",
    "        mp3_url = media['data-track-url']\n",
    "    else:\n",
    "        mp3_url = None\n",
    "    \n",
    "    # Grab the synopsis, if it exists\n",
    "    summary = soup.find(class_=\"program_synopsis__body\")\n",
    "    if summary:\n",
    "        synopsis = summary.h2.text\n",
    "    else:\n",
    "        synopsis = None\n",
    "    \n",
    "    # Return the scraped data\n",
    "    return dict(\n",
    "        title=title,\n",
    "        mp3_url=mp3_url,\n",
    "        archive_url=url,\n",
    "        synopsis=synopsis,\n",
    "        **meta\n",
    "    )"
   ]
  },
  {
   "cell_type": "markdown",
   "metadata": {},
   "source": [
    "Loop through all URLs and scrape each individual page."
   ]
  },
  {
   "cell_type": "code",
   "execution_count": null,
   "metadata": {},
   "outputs": [],
   "source": [
    "program_list, dud_list = [], []"
   ]
  },
  {
   "cell_type": "code",
   "execution_count": null,
   "metadata": {},
   "outputs": [],
   "source": [
    "for url in list(unique_links):\n",
    "    d = scrape_program(url)\n",
    "    if d:\n",
    "        program_list.append(d)\n",
    "    else:\n",
    "        dud_list.append(url)\n",
    "    time.sleep(0.33)"
   ]
  },
  {
   "cell_type": "markdown",
   "metadata": {},
   "source": [
    "Repeat with the duds to give them a second chance"
   ]
  },
  {
   "cell_type": "code",
   "execution_count": null,
   "metadata": {},
   "outputs": [],
   "source": [
    "for url in dud_list:\n",
    "    d = scrape_program(url)\n",
    "    if d:\n",
    "        program_list.append(d)\n",
    "    else:\n",
    "        pass\n",
    "    time.sleep(0.33)"
   ]
  },
  {
   "cell_type": "markdown",
   "metadata": {},
   "source": [
    "Convert to a dataframe"
   ]
  },
  {
   "cell_type": "code",
   "execution_count": null,
   "metadata": {},
   "outputs": [],
   "source": [
    "df = pd.DataFrame(program_list).rename(columns={\n",
    "    \"Broadcast Date\": \"broadcast_date\",\n",
    "    \"Physical Format\": \"physical_format\",\n",
    "    \"Digital Format\": \"digital_format\",\n",
    "    \"Ownership\": \"ownership\",\n",
    "    \"Language\": \"language\",\n",
    "    \"Program Sponsor\": \"program_sponsor\",\n",
    "    \"Duration\": \"duration\"\n",
    "})"
   ]
  },
  {
   "cell_type": "markdown",
   "metadata": {},
   "source": [
    "Calculate extra columns"
   ]
  },
  {
   "cell_type": "code",
   "execution_count": null,
   "metadata": {},
   "outputs": [],
   "source": [
    "def parse_date(s):\n",
    "    if pd.isnull(s):\n",
    "        return None\n",
    "    try:\n",
    "        month, day, year = s.split(\" \")\n",
    "    except ValueError:\n",
    "        return None\n",
    "    return pd.to_datetime(s)"
   ]
  },
  {
   "cell_type": "code",
   "execution_count": null,
   "metadata": {},
   "outputs": [],
   "source": [
    "df['broadcast_datetime'] = df.broadcast_date.apply(parse_date)"
   ]
  },
  {
   "cell_type": "code",
   "execution_count": null,
   "metadata": {},
   "outputs": [],
   "source": [
    "df['broadcast_year'] = df.broadcast_datetime.dt.year"
   ]
  },
  {
   "cell_type": "code",
   "execution_count": null,
   "metadata": {},
   "outputs": [],
   "source": [
    "df['broadcast_month'] = df.broadcast_datetime.dt.month"
   ]
  },
  {
   "cell_type": "code",
   "execution_count": null,
   "metadata": {},
   "outputs": [],
   "source": [
    "df['broadcast_monthday'] = df.broadcast_datetime.dt.day"
   ]
  },
  {
   "cell_type": "code",
   "execution_count": null,
   "metadata": {},
   "outputs": [],
   "source": [
    "df['has_mp3_url'] = ~pd.isnull(df.mp3_url)"
   ]
  },
  {
   "cell_type": "markdown",
   "metadata": {},
   "source": [
    "Validate results"
   ]
  },
  {
   "cell_type": "code",
   "execution_count": null,
   "metadata": {},
   "outputs": [],
   "source": [
    "assert len(df) == len(unique_links)"
   ]
  },
  {
   "cell_type": "markdown",
   "metadata": {},
   "source": [
    "Calculate statistics"
   ]
  },
  {
   "cell_type": "code",
   "execution_count": null,
   "metadata": {},
   "outputs": [],
   "source": [
    "df.has_mp3_url.value_counts()"
   ]
  },
  {
   "cell_type": "markdown",
   "metadata": {},
   "source": [
    "### Export"
   ]
  },
  {
   "cell_type": "code",
   "execution_count": null,
   "metadata": {},
   "outputs": [],
   "source": [
    "df.sort_values([\"broadcast_month\", \"broadcast_monthday\", \"broadcast_year\"]).to_csv(\"./data/programs.csv\", index=False)"
   ]
  },
  {
   "cell_type": "markdown",
   "metadata": {},
   "source": [
    "### Download mp3 files"
   ]
  },
  {
   "cell_type": "code",
   "execution_count": 80,
   "metadata": {},
   "outputs": [],
   "source": [
    "sked = pd.read_csv(\"../data/schedule.csv\")"
   ]
  },
  {
   "cell_type": "code",
   "execution_count": 81,
   "metadata": {},
   "outputs": [],
   "source": [
    "programs = pd.read_csv(\"../data/programs.csv\")"
   ]
  },
  {
   "cell_type": "code",
   "execution_count": 82,
   "metadata": {},
   "outputs": [],
   "source": [
    "feed_df = sked[~pd.isnull(sked.archive_url)].merge(\n",
    "    programs,\n",
    "    on=\"archive_url\",\n",
    "    how=\"inner\"\n",
    ")"
   ]
  },
  {
   "cell_type": "code",
   "execution_count": 83,
   "metadata": {},
   "outputs": [],
   "source": [
    "this_dir = os.path.abspath(\"\")"
   ]
  },
  {
   "cell_type": "code",
   "execution_count": 84,
   "metadata": {},
   "outputs": [],
   "source": [
    "parent_dir = os.path.dirname(this_dir)"
   ]
  },
  {
   "cell_type": "code",
   "execution_count": 91,
   "metadata": {},
   "outputs": [],
   "source": [
    "def download_mp3(mp3_url):\n",
    "    \"\"\"\n",
    "    Download the mp3 URL and return the local file path.\n",
    "    \"\"\"\n",
    "    # If there's no URL, there's no path\n",
    "    if not mp3_url or pd.isnull(mp3_url):\n",
    "        return None\n",
    "    \n",
    "    # Build the local path using the URL\n",
    "    print(mp3_url)\n",
    "    filename = mp3_url.split(\"/\")[-1].replace(\"published%2F\", \"\")\n",
    "    filepath = os.path.join(parent_dir, f\"mp3/{filename}\")\n",
    "    \n",
    "    # If the file is already downloaded, we're good to go\n",
    "    if os.path.exists(filepath):\n",
    "        pass\n",
    "        # print(f\"Already downloaded to {filepath}\")\n",
    "    # If not, download it\n",
    "    else:\n",
    "        # print(f\"Downloading {mp3_url} to {filepath}\")\n",
    "        opener = urllib.request.build_opener()\n",
    "        opener.addheaders = [(\"Referer\", \"https://studsterkel.wfmt.com/\")]\n",
    "        urllib.request.install_opener(opener)\n",
    "        urllib.request.urlretrieve(mp3_url, filepath)\n",
    "        time.sleep(0.33)\n",
    "\n",
    "    # Return the path\n",
    "    return filepath"
   ]
  },
  {
   "cell_type": "code",
   "execution_count": 92,
   "metadata": {},
   "outputs": [
    {
     "name": "stdout",
     "output_type": "stream",
     "text": [
      "https://wfmt-studs-terkel.s3.amazonaws.com/published%2F40605.mp3\n",
      "https://wfmt-studs-terkel.s3.amazonaws.com/published%2F33489.mp3\n",
      "https://s3.amazonaws.com/wfmt-studs-terkel/published/6537.mp3\n",
      "https://wfmt-studs-terkel.s3.amazonaws.com/published/28275.mp3\n",
      "https://s3.amazonaws.com/wfmt-studs-terkel/published/10904.mp3\n",
      "https://s3.amazonaws.com/wfmt-studs-terkel/published/2158.mp3\n",
      "https://s3.amazonaws.com/wfmt-studs-terkel/published/5942.mp3\n",
      "https://wfmt-studs-terkel.s3.amazonaws.com/published/33494.mp3\n",
      "https://s3.amazonaws.com/wfmt-studs-terkel/published/18777.mp3\n",
      "https://wfmt-studs-terkel.s3.amazonaws.com/published%2F32660.mp3\n",
      "https://s3.amazonaws.com/wfmt-studs-terkel/published/11142.mp3\n",
      "https://s3.amazonaws.com/wfmt-studs-terkel/published/10766.mp3\n",
      "https://s3.amazonaws.com/wfmt-studs-terkel/published/10125.mp3\n",
      "https://s3.amazonaws.com/wfmt-studs-terkel/published/6826.mp3\n",
      "https://wfmt-studs-terkel.s3.amazonaws.com/published%2F37043.mp3\n",
      "https://s3.amazonaws.com/wfmt-studs-terkel/published/19604.mp3\n",
      "https://s3.amazonaws.com/wfmt-studs-terkel/published/6905.mp3\n",
      "https://s3.amazonaws.com/wfmt-studs-terkel/published/10734.mp3\n",
      "https://s3.amazonaws.com/wfmt-studs-terkel/published/9802.mp3\n",
      "https://s3.amazonaws.com/wfmt-studs-terkel/published/9901.mp3\n",
      "https://s3.amazonaws.com/wfmt-studs-terkel/published/11705.mp3\n",
      "https://s3.amazonaws.com/wfmt-studs-terkel/published/11909.mp3\n",
      "https://s3.amazonaws.com/wfmt-studs-terkel/published%2F26548.mp3\n",
      "https://s3.amazonaws.com/wfmt-studs-terkel/published%2F22930.mp3\n",
      "https://s3.amazonaws.com/wfmt-studs-terkel/published/9013.mp3\n",
      "https://s3.amazonaws.com/wfmt-studs-terkel/published/14128.mp3\n",
      "https://wfmt-studs-terkel.s3.amazonaws.com/published%2F38033.mp3\n",
      "https://s3.amazonaws.com/wfmt-studs-terkel/published/13921.mp3\n",
      "https://s3.amazonaws.com/wfmt-studs-terkel/published/9924.mp3\n",
      "https://s3.amazonaws.com/wfmt-studs-terkel/published/10916.mp3\n",
      "https://s3.amazonaws.com/wfmt-studs-terkel/published%2F21782.mp3\n",
      "https://wfmt-studs-terkel.s3.amazonaws.com/published/43722.mp3\n",
      "https://wfmt-studs-terkel.s3.amazonaws.com/published%2F34339.mp3\n",
      "https://s3.amazonaws.com/wfmt-studs-terkel/published/12838.mp3\n",
      "https://wfmt-studs-terkel.s3.amazonaws.com/published%2F29625.mp3\n",
      "https://wfmt-studs-terkel.s3.amazonaws.com/published%2F38426.mp3\n",
      "https://s3.amazonaws.com/wfmt-studs-terkel/published/21803.mp3\n",
      "https://s3.amazonaws.com/wfmt-studs-terkel/published/21807.mp3\n",
      "https://wfmt-studs-terkel.s3.amazonaws.com/published/44096.mp3\n",
      "https://wfmt-studs-terkel.s3.amazonaws.com/published%2F44253.mp3\n",
      "https://s3.amazonaws.com/wfmt-studs-terkel/published/10207.mp3\n",
      "https://wfmt-studs-terkel.s3.amazonaws.com/published%2F33236.mp3\n",
      "https://wfmt-studs-terkel.s3.amazonaws.com/published%2F39911.mp3\n",
      "https://wfmt-studs-terkel.s3.amazonaws.com/published%2F40501.mp3\n",
      "https://wfmt-studs-terkel.s3.amazonaws.com/published/41571.mp3\n",
      "https://s3.amazonaws.com/wfmt-studs-terkel/published/21369.mp3\n",
      "https://wfmt-studs-terkel.s3.amazonaws.com/published/41795.mp3\n",
      "https://wfmt-studs-terkel.s3.amazonaws.com/published/41799.mp3\n",
      "https://s3.amazonaws.com/wfmt-studs-terkel/published/21231.mp3\n",
      "https://s3.amazonaws.com/wfmt-studs-terkel/published/13494.mp3\n",
      "https://s3.amazonaws.com/wfmt-studs-terkel/published/13497.mp3\n",
      "https://wfmt-studs-terkel.s3.amazonaws.com/published/34888.mp3\n",
      "https://s3.amazonaws.com/wfmt-studs-terkel/published%2F23230.mp3\n",
      "https://s3.amazonaws.com/wfmt-studs-terkel/published/10765.mp3\n",
      "https://wfmt-studs-terkel.s3.amazonaws.com/published%2F43757.mp3\n",
      "https://s3.amazonaws.com/wfmt-studs-terkel/published%2F22949.mp3\n",
      "https://wfmt-studs-terkel.s3.amazonaws.com/published%2F44123.mp3\n",
      "https://wfmt-studs-terkel.s3.amazonaws.com/published%2F32027.mp3\n",
      "https://wfmt-studs-terkel.s3.amazonaws.com/published%2F38319.mp3\n",
      "https://wfmt-studs-terkel.s3.amazonaws.com/published%2F33154.mp3\n",
      "https://wfmt-studs-terkel.s3.amazonaws.com/published%2F34366.mp3\n",
      "https://wfmt-studs-terkel.s3.amazonaws.com/published%2F43749.mp3\n",
      "https://s3.amazonaws.com/wfmt-studs-terkel/published/13047.mp3\n",
      "https://s3.amazonaws.com/wfmt-studs-terkel/published/6378.mp3\n",
      "https://wfmt-studs-terkel.s3.amazonaws.com/published%2F38828.mp3\n",
      "https://s3.amazonaws.com/wfmt-studs-terkel/published%2F23371.mp3\n",
      "https://s3.amazonaws.com/wfmt-studs-terkel/published/21774.mp3\n",
      "https://s3.amazonaws.com/wfmt-studs-terkel/published/21772.mp3\n",
      "https://s3.amazonaws.com/wfmt-studs-terkel/published/7795.mp3\n",
      "https://wfmt-studs-terkel.s3.amazonaws.com/published%2F35191.mp3\n",
      "https://wfmt-studs-terkel.s3.amazonaws.com/published%2F35187.mp3\n",
      "https://s3.amazonaws.com/wfmt-studs-terkel/published/10957.mp3\n",
      "https://s3.amazonaws.com/wfmt-studs-terkel/published/19880.mp3\n",
      "https://s3.amazonaws.com/wfmt-studs-terkel/published/13183.mp3\n",
      "https://s3.amazonaws.com/wfmt-studs-terkel/published/19572.mp3\n",
      "https://wfmt-studs-terkel.s3.amazonaws.com/published/35256.mp3\n",
      "https://s3.amazonaws.com/wfmt-studs-terkel/published/7099.mp3\n",
      "https://s3.amazonaws.com/wfmt-studs-terkel/published/13110.mp3\n",
      "https://s3.amazonaws.com/wfmt-studs-terkel/published/13109.mp3\n",
      "https://s3.amazonaws.com/wfmt-studs-terkel/published/9932.mp3\n",
      "https://wfmt-studs-terkel.s3.amazonaws.com/published/45702.mp3\n",
      "https://wfmt-studs-terkel.s3.amazonaws.com/published%2F44735.mp3\n",
      "https://s3.amazonaws.com/wfmt-studs-terkel/published/19640.mp3\n",
      "https://s3.amazonaws.com/wfmt-studs-terkel/published/12368.mp3\n",
      "https://s3.amazonaws.com/wfmt-studs-terkel/published/5816.mp3\n",
      "https://s3.amazonaws.com/wfmt-studs-terkel/published/11861.mp3\n",
      "https://s3.amazonaws.com/wfmt-studs-terkel/published/12249.mp3\n",
      "https://wfmt-studs-terkel.s3.amazonaws.com/published%2F30646.mp3\n",
      "https://s3.amazonaws.com/wfmt-studs-terkel/published/7088.mp3\n",
      "https://wfmt-studs-terkel.s3.amazonaws.com/published%2F33308.mp3\n",
      "https://s3.amazonaws.com/wfmt-studs-terkel/published/7142.mp3\n",
      "https://s3.amazonaws.com/wfmt-studs-terkel/published/20008.mp3\n",
      "https://s3.amazonaws.com/wfmt-studs-terkel/published/19758.mp3\n",
      "https://s3.amazonaws.com/wfmt-studs-terkel/published/5882.mp3\n",
      "https://s3.amazonaws.com/wfmt-studs-terkel/published/9517.mp3\n",
      "https://s3.amazonaws.com/wfmt-studs-terkel/published/6116.mp3\n",
      "https://s3.amazonaws.com/wfmt-studs-terkel/published%2F22956.mp3\n",
      "https://wfmt-studs-terkel.s3.amazonaws.com/published%2F44270.mp3\n",
      "https://s3.amazonaws.com/wfmt-studs-terkel/published/17009.mp3\n",
      "https://s3.amazonaws.com/wfmt-studs-terkel/published/7940.mp3\n",
      "https://s3.amazonaws.com/wfmt-studs-terkel/published/7674.mp3\n",
      "https://wfmt-studs-terkel.s3.amazonaws.com/published%2F44385.mp3\n",
      "https://wfmt-studs-terkel.s3.amazonaws.com/published%2F35370.mp3\n",
      "https://wfmt-studs-terkel.s3.amazonaws.com/published%2F33736.mp3\n",
      "https://s3.amazonaws.com/wfmt-studs-terkel/published/12938.mp3\n",
      "https://wfmt-studs-terkel.s3.amazonaws.com/published%2F35214.mp3\n"
     ]
    }
   ],
   "source": [
    "feed_df['mp3_path'] = feed_df.mp3_url.apply(download_mp3)"
   ]
  },
  {
   "cell_type": "code",
   "execution_count": 85,
   "metadata": {},
   "outputs": [],
   "source": [
    "def _get_s3_client(bucket, region=\"us-east-1\"):\n",
    "    \"\"\"\n",
    "    Returns a transfer client ready to upload files to an s3 bucket.\n",
    "    Provide the S3 bucket name and region.\n",
    "    \"\"\"\n",
    "    credentials = { \n",
    "        'aws_access_key_id': os.getenv('AWS_ACCESS_KEY_ID'),\n",
    "        'aws_secret_access_key': os.getenv('AWS_ACCESS_KEY_SECRET')\n",
    "    }\n",
    "    client = boto3.client('s3', region, **credentials)\n",
    "    return S3Transfer(client)"
   ]
  },
  {
   "cell_type": "code",
   "execution_count": 93,
   "metadata": {},
   "outputs": [
    {
     "data": {
      "text/html": [
       "<div>\n",
       "<style scoped>\n",
       "    .dataframe tbody tr th:only-of-type {\n",
       "        vertical-align: middle;\n",
       "    }\n",
       "\n",
       "    .dataframe tbody tr th {\n",
       "        vertical-align: top;\n",
       "    }\n",
       "\n",
       "    .dataframe thead th {\n",
       "        text-align: right;\n",
       "    }\n",
       "</style>\n",
       "<table border=\"1\" class=\"dataframe\">\n",
       "  <thead>\n",
       "    <tr style=\"text-align: right;\">\n",
       "      <th></th>\n",
       "      <th>feed_date</th>\n",
       "      <th>archive_url</th>\n",
       "      <th>title</th>\n",
       "      <th>mp3_url</th>\n",
       "      <th>synopsis</th>\n",
       "      <th>broadcast_date</th>\n",
       "      <th>physical_format</th>\n",
       "      <th>Duration</th>\n",
       "      <th>digital_format</th>\n",
       "      <th>ownership</th>\n",
       "      <th>language</th>\n",
       "      <th>program_sponsor</th>\n",
       "      <th>broadcast_datetime</th>\n",
       "      <th>broadcast_year</th>\n",
       "      <th>broadcast_month</th>\n",
       "      <th>broadcast_monthday</th>\n",
       "      <th>has_mp3_url</th>\n",
       "      <th>mp3_path</th>\n",
       "    </tr>\n",
       "  </thead>\n",
       "  <tbody>\n",
       "  </tbody>\n",
       "</table>\n",
       "</div>"
      ],
      "text/plain": [
       "Empty DataFrame\n",
       "Columns: [feed_date, archive_url, title, mp3_url, synopsis, broadcast_date, physical_format, Duration, digital_format, ownership, language, program_sponsor, broadcast_datetime, broadcast_year, broadcast_month, broadcast_monthday, has_mp3_url, mp3_path]\n",
       "Index: []"
      ]
     },
     "execution_count": 93,
     "metadata": {},
     "output_type": "execute_result"
    }
   ],
   "source": [
    "feed_df[pd.isnull(feed_df.mp3_url)]"
   ]
  },
  {
   "cell_type": "code",
   "execution_count": 94,
   "metadata": {},
   "outputs": [
    {
     "name": "stdout",
     "output_type": "stream",
     "text": [
      "Uploading /home/palewire/Code/studs-terkel-podcast-feed/mp3/40605.mp3 to studs-terkel-radio-archive-feed\n",
      "Uploading /home/palewire/Code/studs-terkel-podcast-feed/mp3/33489.mp3 to studs-terkel-radio-archive-feed\n",
      "Uploading /home/palewire/Code/studs-terkel-podcast-feed/mp3/6537.mp3 to studs-terkel-radio-archive-feed\n",
      "Uploading /home/palewire/Code/studs-terkel-podcast-feed/mp3/28275.mp3 to studs-terkel-radio-archive-feed\n",
      "Uploading /home/palewire/Code/studs-terkel-podcast-feed/mp3/10904.mp3 to studs-terkel-radio-archive-feed\n",
      "Uploading /home/palewire/Code/studs-terkel-podcast-feed/mp3/2158.mp3 to studs-terkel-radio-archive-feed\n",
      "Uploading /home/palewire/Code/studs-terkel-podcast-feed/mp3/5942.mp3 to studs-terkel-radio-archive-feed\n",
      "Uploading /home/palewire/Code/studs-terkel-podcast-feed/mp3/33494.mp3 to studs-terkel-radio-archive-feed\n",
      "Uploading /home/palewire/Code/studs-terkel-podcast-feed/mp3/18777.mp3 to studs-terkel-radio-archive-feed\n",
      "Uploading /home/palewire/Code/studs-terkel-podcast-feed/mp3/32660.mp3 to studs-terkel-radio-archive-feed\n",
      "Uploading /home/palewire/Code/studs-terkel-podcast-feed/mp3/11142.mp3 to studs-terkel-radio-archive-feed\n",
      "Uploading /home/palewire/Code/studs-terkel-podcast-feed/mp3/10766.mp3 to studs-terkel-radio-archive-feed\n",
      "Uploading /home/palewire/Code/studs-terkel-podcast-feed/mp3/10125.mp3 to studs-terkel-radio-archive-feed\n",
      "Uploading /home/palewire/Code/studs-terkel-podcast-feed/mp3/6826.mp3 to studs-terkel-radio-archive-feed\n",
      "Uploading /home/palewire/Code/studs-terkel-podcast-feed/mp3/37043.mp3 to studs-terkel-radio-archive-feed\n",
      "Uploading /home/palewire/Code/studs-terkel-podcast-feed/mp3/19604.mp3 to studs-terkel-radio-archive-feed\n",
      "Uploading /home/palewire/Code/studs-terkel-podcast-feed/mp3/6905.mp3 to studs-terkel-radio-archive-feed\n",
      "Uploading /home/palewire/Code/studs-terkel-podcast-feed/mp3/10734.mp3 to studs-terkel-radio-archive-feed\n",
      "Uploading /home/palewire/Code/studs-terkel-podcast-feed/mp3/9802.mp3 to studs-terkel-radio-archive-feed\n",
      "Uploading /home/palewire/Code/studs-terkel-podcast-feed/mp3/9901.mp3 to studs-terkel-radio-archive-feed\n",
      "Uploading /home/palewire/Code/studs-terkel-podcast-feed/mp3/11705.mp3 to studs-terkel-radio-archive-feed\n",
      "Uploading /home/palewire/Code/studs-terkel-podcast-feed/mp3/11909.mp3 to studs-terkel-radio-archive-feed\n",
      "Uploading /home/palewire/Code/studs-terkel-podcast-feed/mp3/26548.mp3 to studs-terkel-radio-archive-feed\n",
      "Uploading /home/palewire/Code/studs-terkel-podcast-feed/mp3/22930.mp3 to studs-terkel-radio-archive-feed\n",
      "Uploading /home/palewire/Code/studs-terkel-podcast-feed/mp3/9013.mp3 to studs-terkel-radio-archive-feed\n",
      "Uploading /home/palewire/Code/studs-terkel-podcast-feed/mp3/14128.mp3 to studs-terkel-radio-archive-feed\n",
      "Uploading /home/palewire/Code/studs-terkel-podcast-feed/mp3/38033.mp3 to studs-terkel-radio-archive-feed\n",
      "Uploading /home/palewire/Code/studs-terkel-podcast-feed/mp3/13921.mp3 to studs-terkel-radio-archive-feed\n",
      "Uploading /home/palewire/Code/studs-terkel-podcast-feed/mp3/9924.mp3 to studs-terkel-radio-archive-feed\n",
      "Uploading /home/palewire/Code/studs-terkel-podcast-feed/mp3/10916.mp3 to studs-terkel-radio-archive-feed\n",
      "Uploading /home/palewire/Code/studs-terkel-podcast-feed/mp3/21782.mp3 to studs-terkel-radio-archive-feed\n",
      "Uploading /home/palewire/Code/studs-terkel-podcast-feed/mp3/43722.mp3 to studs-terkel-radio-archive-feed\n",
      "Uploading /home/palewire/Code/studs-terkel-podcast-feed/mp3/34339.mp3 to studs-terkel-radio-archive-feed\n",
      "Uploading /home/palewire/Code/studs-terkel-podcast-feed/mp3/12838.mp3 to studs-terkel-radio-archive-feed\n",
      "Uploading /home/palewire/Code/studs-terkel-podcast-feed/mp3/29625.mp3 to studs-terkel-radio-archive-feed\n",
      "Uploading /home/palewire/Code/studs-terkel-podcast-feed/mp3/38426.mp3 to studs-terkel-radio-archive-feed\n",
      "Uploading /home/palewire/Code/studs-terkel-podcast-feed/mp3/21803.mp3 to studs-terkel-radio-archive-feed\n",
      "Uploading /home/palewire/Code/studs-terkel-podcast-feed/mp3/21807.mp3 to studs-terkel-radio-archive-feed\n",
      "Uploading /home/palewire/Code/studs-terkel-podcast-feed/mp3/44096.mp3 to studs-terkel-radio-archive-feed\n",
      "Uploading /home/palewire/Code/studs-terkel-podcast-feed/mp3/44253.mp3 to studs-terkel-radio-archive-feed\n",
      "Uploading /home/palewire/Code/studs-terkel-podcast-feed/mp3/10207.mp3 to studs-terkel-radio-archive-feed\n",
      "Uploading /home/palewire/Code/studs-terkel-podcast-feed/mp3/33236.mp3 to studs-terkel-radio-archive-feed\n",
      "Uploading /home/palewire/Code/studs-terkel-podcast-feed/mp3/39911.mp3 to studs-terkel-radio-archive-feed\n",
      "Uploading /home/palewire/Code/studs-terkel-podcast-feed/mp3/40501.mp3 to studs-terkel-radio-archive-feed\n",
      "Uploading /home/palewire/Code/studs-terkel-podcast-feed/mp3/41571.mp3 to studs-terkel-radio-archive-feed\n",
      "Uploading /home/palewire/Code/studs-terkel-podcast-feed/mp3/21369.mp3 to studs-terkel-radio-archive-feed\n",
      "Uploading /home/palewire/Code/studs-terkel-podcast-feed/mp3/41795.mp3 to studs-terkel-radio-archive-feed\n",
      "Uploading /home/palewire/Code/studs-terkel-podcast-feed/mp3/41799.mp3 to studs-terkel-radio-archive-feed\n",
      "Uploading /home/palewire/Code/studs-terkel-podcast-feed/mp3/21231.mp3 to studs-terkel-radio-archive-feed\n",
      "Uploading /home/palewire/Code/studs-terkel-podcast-feed/mp3/13494.mp3 to studs-terkel-radio-archive-feed\n",
      "Uploading /home/palewire/Code/studs-terkel-podcast-feed/mp3/13497.mp3 to studs-terkel-radio-archive-feed\n",
      "Uploading /home/palewire/Code/studs-terkel-podcast-feed/mp3/34888.mp3 to studs-terkel-radio-archive-feed\n",
      "Uploading /home/palewire/Code/studs-terkel-podcast-feed/mp3/23230.mp3 to studs-terkel-radio-archive-feed\n",
      "Uploading /home/palewire/Code/studs-terkel-podcast-feed/mp3/10765.mp3 to studs-terkel-radio-archive-feed\n",
      "Uploading /home/palewire/Code/studs-terkel-podcast-feed/mp3/43757.mp3 to studs-terkel-radio-archive-feed\n",
      "Uploading /home/palewire/Code/studs-terkel-podcast-feed/mp3/22949.mp3 to studs-terkel-radio-archive-feed\n",
      "Uploading /home/palewire/Code/studs-terkel-podcast-feed/mp3/44123.mp3 to studs-terkel-radio-archive-feed\n",
      "Uploading /home/palewire/Code/studs-terkel-podcast-feed/mp3/32027.mp3 to studs-terkel-radio-archive-feed\n",
      "Uploading /home/palewire/Code/studs-terkel-podcast-feed/mp3/38319.mp3 to studs-terkel-radio-archive-feed\n",
      "Uploading /home/palewire/Code/studs-terkel-podcast-feed/mp3/33154.mp3 to studs-terkel-radio-archive-feed\n",
      "Uploading /home/palewire/Code/studs-terkel-podcast-feed/mp3/34366.mp3 to studs-terkel-radio-archive-feed\n",
      "Uploading /home/palewire/Code/studs-terkel-podcast-feed/mp3/43749.mp3 to studs-terkel-radio-archive-feed\n",
      "Uploading /home/palewire/Code/studs-terkel-podcast-feed/mp3/13047.mp3 to studs-terkel-radio-archive-feed\n",
      "Uploading /home/palewire/Code/studs-terkel-podcast-feed/mp3/6378.mp3 to studs-terkel-radio-archive-feed\n",
      "Uploading /home/palewire/Code/studs-terkel-podcast-feed/mp3/38828.mp3 to studs-terkel-radio-archive-feed\n",
      "Uploading /home/palewire/Code/studs-terkel-podcast-feed/mp3/23371.mp3 to studs-terkel-radio-archive-feed\n",
      "Uploading /home/palewire/Code/studs-terkel-podcast-feed/mp3/21774.mp3 to studs-terkel-radio-archive-feed\n",
      "Uploading /home/palewire/Code/studs-terkel-podcast-feed/mp3/21772.mp3 to studs-terkel-radio-archive-feed\n",
      "Uploading /home/palewire/Code/studs-terkel-podcast-feed/mp3/7795.mp3 to studs-terkel-radio-archive-feed\n",
      "Uploading /home/palewire/Code/studs-terkel-podcast-feed/mp3/35191.mp3 to studs-terkel-radio-archive-feed\n",
      "Uploading /home/palewire/Code/studs-terkel-podcast-feed/mp3/35187.mp3 to studs-terkel-radio-archive-feed\n",
      "Uploading /home/palewire/Code/studs-terkel-podcast-feed/mp3/10957.mp3 to studs-terkel-radio-archive-feed\n",
      "Uploading /home/palewire/Code/studs-terkel-podcast-feed/mp3/19880.mp3 to studs-terkel-radio-archive-feed\n",
      "Uploading /home/palewire/Code/studs-terkel-podcast-feed/mp3/13183.mp3 to studs-terkel-radio-archive-feed\n",
      "Uploading /home/palewire/Code/studs-terkel-podcast-feed/mp3/19572.mp3 to studs-terkel-radio-archive-feed\n",
      "Uploading /home/palewire/Code/studs-terkel-podcast-feed/mp3/35256.mp3 to studs-terkel-radio-archive-feed\n",
      "Uploading /home/palewire/Code/studs-terkel-podcast-feed/mp3/7099.mp3 to studs-terkel-radio-archive-feed\n",
      "Uploading /home/palewire/Code/studs-terkel-podcast-feed/mp3/13110.mp3 to studs-terkel-radio-archive-feed\n",
      "Uploading /home/palewire/Code/studs-terkel-podcast-feed/mp3/13109.mp3 to studs-terkel-radio-archive-feed\n",
      "Uploading /home/palewire/Code/studs-terkel-podcast-feed/mp3/9932.mp3 to studs-terkel-radio-archive-feed\n",
      "Uploading /home/palewire/Code/studs-terkel-podcast-feed/mp3/45702.mp3 to studs-terkel-radio-archive-feed\n",
      "Uploading /home/palewire/Code/studs-terkel-podcast-feed/mp3/44735.mp3 to studs-terkel-radio-archive-feed\n",
      "Uploading /home/palewire/Code/studs-terkel-podcast-feed/mp3/19640.mp3 to studs-terkel-radio-archive-feed\n",
      "Uploading /home/palewire/Code/studs-terkel-podcast-feed/mp3/12368.mp3 to studs-terkel-radio-archive-feed\n",
      "Uploading /home/palewire/Code/studs-terkel-podcast-feed/mp3/5816.mp3 to studs-terkel-radio-archive-feed\n",
      "Uploading /home/palewire/Code/studs-terkel-podcast-feed/mp3/11861.mp3 to studs-terkel-radio-archive-feed\n",
      "Uploading /home/palewire/Code/studs-terkel-podcast-feed/mp3/12249.mp3 to studs-terkel-radio-archive-feed\n",
      "Uploading /home/palewire/Code/studs-terkel-podcast-feed/mp3/30646.mp3 to studs-terkel-radio-archive-feed\n",
      "Uploading /home/palewire/Code/studs-terkel-podcast-feed/mp3/7088.mp3 to studs-terkel-radio-archive-feed\n",
      "Uploading /home/palewire/Code/studs-terkel-podcast-feed/mp3/33308.mp3 to studs-terkel-radio-archive-feed\n",
      "Uploading /home/palewire/Code/studs-terkel-podcast-feed/mp3/7142.mp3 to studs-terkel-radio-archive-feed\n",
      "Uploading /home/palewire/Code/studs-terkel-podcast-feed/mp3/20008.mp3 to studs-terkel-radio-archive-feed\n",
      "Uploading /home/palewire/Code/studs-terkel-podcast-feed/mp3/19758.mp3 to studs-terkel-radio-archive-feed\n",
      "Uploading /home/palewire/Code/studs-terkel-podcast-feed/mp3/5882.mp3 to studs-terkel-radio-archive-feed\n",
      "Uploading /home/palewire/Code/studs-terkel-podcast-feed/mp3/9517.mp3 to studs-terkel-radio-archive-feed\n",
      "Uploading /home/palewire/Code/studs-terkel-podcast-feed/mp3/6116.mp3 to studs-terkel-radio-archive-feed\n",
      "Uploading /home/palewire/Code/studs-terkel-podcast-feed/mp3/22956.mp3 to studs-terkel-radio-archive-feed\n",
      "Uploading /home/palewire/Code/studs-terkel-podcast-feed/mp3/44270.mp3 to studs-terkel-radio-archive-feed\n",
      "Uploading /home/palewire/Code/studs-terkel-podcast-feed/mp3/17009.mp3 to studs-terkel-radio-archive-feed\n",
      "Uploading /home/palewire/Code/studs-terkel-podcast-feed/mp3/7940.mp3 to studs-terkel-radio-archive-feed\n",
      "Uploading /home/palewire/Code/studs-terkel-podcast-feed/mp3/7674.mp3 to studs-terkel-radio-archive-feed\n",
      "Uploading /home/palewire/Code/studs-terkel-podcast-feed/mp3/44385.mp3 to studs-terkel-radio-archive-feed\n",
      "Uploading /home/palewire/Code/studs-terkel-podcast-feed/mp3/35370.mp3 to studs-terkel-radio-archive-feed\n",
      "Uploading /home/palewire/Code/studs-terkel-podcast-feed/mp3/33736.mp3 to studs-terkel-radio-archive-feed\n",
      "Uploading /home/palewire/Code/studs-terkel-podcast-feed/mp3/12938.mp3 to studs-terkel-radio-archive-feed\n",
      "Uploading /home/palewire/Code/studs-terkel-podcast-feed/mp3/35214.mp3 to studs-terkel-radio-archive-feed\n"
     ]
    }
   ],
   "source": [
    "bucket = 'studs-terkel-radio-archive-feed'\n",
    "client = _get_s3_client(bucket)\n",
    "for path in list(feed_df.mp3_path):\n",
    "    print(f\"Uploading {path} to {bucket}\")\n",
    "    client.upload_file(\n",
    "        path,\n",
    "        bucket,\n",
    "        path,\n",
    "        extra_args={'ACL': 'public-read', 'ContentType': 'audio/mpeg'}\n",
    "    )"
   ]
  },
  {
   "cell_type": "code",
   "execution_count": 95,
   "metadata": {},
   "outputs": [],
   "source": [
    "feed_df['feed_url'] = feed_df.mp3_path.apply(lambda x: f'https://studs-terkel-radio-archive-feed.s3.amazonaws.com/{x}')"
   ]
  },
  {
   "cell_type": "code",
   "execution_count": 97,
   "metadata": {},
   "outputs": [],
   "source": [
    "feed_df.sort_values([\"feed_date\"]).to_csv(\"../data/feed.csv\", index=False)"
   ]
  }
 ],
 "metadata": {
  "kernelspec": {
   "display_name": "Python 3",
   "language": "python",
   "name": "python3"
  },
  "language_info": {
   "codemirror_mode": {
    "name": "ipython",
    "version": 3
   },
   "file_extension": ".py",
   "mimetype": "text/x-python",
   "name": "python",
   "nbconvert_exporter": "python",
   "pygments_lexer": "ipython3",
   "version": "3.8.5"
  }
 },
 "nbformat": 4,
 "nbformat_minor": 4
}
